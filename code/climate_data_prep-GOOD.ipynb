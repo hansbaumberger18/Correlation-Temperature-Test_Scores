{
 "cells": [
  {
   "cell_type": "markdown",
   "id": "c957dcae-ab9e-4765-bbdd-c933aa7073a7",
   "metadata": {},
   "source": [
    "# Climate data: import and cleaning"
   ]
  },
  {
   "cell_type": "markdown",
   "id": "7dcd654b-e19d-4636-a1bb-d4aa29a1c761",
   "metadata": {},
   "source": [
    "#### In this particular notebook the climate dataset \"climate_by_state_2018-HBA-Copy.csv\" is imported and cleaned for the porject's purpose."
   ]
  },
  {
   "cell_type": "code",
   "execution_count": 73,
   "id": "dce2e211-f3ec-4c27-b133-c070a54fe047",
   "metadata": {},
   "outputs": [],
   "source": [
    "import pandas as pd"
   ]
  },
  {
   "cell_type": "code",
   "execution_count": 74,
   "id": "7af7f923-3bda-4343-911a-44bd651d3ee6",
   "metadata": {},
   "outputs": [],
   "source": [
    "climate = pd.read_csv('../data/climate_by_state_2018-HBA-Copy.csv')"
   ]
  },
  {
   "cell_type": "code",
   "execution_count": 75,
   "id": "99195eea-19f6-4a96-bed9-66f52644e3cb",
   "metadata": {},
   "outputs": [
    {
     "data": {
      "text/plain": [
       "pandas.core.frame.DataFrame"
      ]
     },
     "execution_count": 75,
     "metadata": {},
     "output_type": "execute_result"
    }
   ],
   "source": [
    "type(climate)"
   ]
  },
  {
   "cell_type": "code",
   "execution_count": 76,
   "id": "d6da33ce-bbd6-44b8-9fec-9e033f6802cb",
   "metadata": {},
   "outputs": [
    {
     "data": {
      "text/html": [
       "<div>\n",
       "<style scoped>\n",
       "    .dataframe tbody tr th:only-of-type {\n",
       "        vertical-align: middle;\n",
       "    }\n",
       "\n",
       "    .dataframe tbody tr th {\n",
       "        vertical-align: top;\n",
       "    }\n",
       "\n",
       "    .dataframe thead th {\n",
       "        text-align: right;\n",
       "    }\n",
       "</style>\n",
       "<table border=\"1\" class=\"dataframe\">\n",
       "  <thead>\n",
       "    <tr style=\"text-align: right;\">\n",
       "      <th></th>\n",
       "      <th>Unnamed: 0</th>\n",
       "      <th>state</th>\n",
       "      <th>avg_hum_spr</th>\n",
       "      <th>avg_hum_sum</th>\n",
       "      <th>avg_hum_fall</th>\n",
       "      <th>avg_hum_wint</th>\n",
       "      <th>avg_temp_spr</th>\n",
       "      <th>avg_temp_sum</th>\n",
       "      <th>avg_temp_fall</th>\n",
       "      <th>avg_temp_wint</th>\n",
       "      <th>avg_precip_spr</th>\n",
       "      <th>avg_precip_sum</th>\n",
       "      <th>avg_precip_fall</th>\n",
       "      <th>avg_precip_wint</th>\n",
       "      <th>avg_pressure_spr</th>\n",
       "      <th>avg_pressure_sum</th>\n",
       "      <th>avg_pressure_fall</th>\n",
       "      <th>avg_pressure_wint</th>\n",
       "    </tr>\n",
       "  </thead>\n",
       "  <tbody>\n",
       "    <tr>\n",
       "      <th>0</th>\n",
       "      <td>0</td>\n",
       "      <td>Alabama</td>\n",
       "      <td>73.021978</td>\n",
       "      <td>72.582418</td>\n",
       "      <td>75.326087</td>\n",
       "      <td>75.739130</td>\n",
       "      <td>18.076923</td>\n",
       "      <td>27.604396</td>\n",
       "      <td>30.793478</td>\n",
       "      <td>20.989130</td>\n",
       "      <td>1.324176</td>\n",
       "      <td>3.756044</td>\n",
       "      <td>6.307609</td>\n",
       "      <td>2.841304</td>\n",
       "      <td>1021.978022</td>\n",
       "      <td>1016.000000</td>\n",
       "      <td>1016.271739</td>\n",
       "      <td>1018.380435</td>\n",
       "    </tr>\n",
       "    <tr>\n",
       "      <th>1</th>\n",
       "      <td>1</td>\n",
       "      <td>Alaska</td>\n",
       "      <td>67.769231</td>\n",
       "      <td>72.439560</td>\n",
       "      <td>78.293478</td>\n",
       "      <td>75.163043</td>\n",
       "      <td>28.197802</td>\n",
       "      <td>30.000000</td>\n",
       "      <td>29.641304</td>\n",
       "      <td>27.739130</td>\n",
       "      <td>0.081319</td>\n",
       "      <td>2.485714</td>\n",
       "      <td>4.276087</td>\n",
       "      <td>0.751087</td>\n",
       "      <td>1014.450549</td>\n",
       "      <td>1012.296703</td>\n",
       "      <td>1012.597826</td>\n",
       "      <td>1013.260870</td>\n",
       "    </tr>\n",
       "    <tr>\n",
       "      <th>2</th>\n",
       "      <td>2</td>\n",
       "      <td>Arizona</td>\n",
       "      <td>82.164835</td>\n",
       "      <td>77.153846</td>\n",
       "      <td>79.891304</td>\n",
       "      <td>81.673913</td>\n",
       "      <td>25.582418</td>\n",
       "      <td>29.054945</td>\n",
       "      <td>28.782609</td>\n",
       "      <td>27.021739</td>\n",
       "      <td>2.626374</td>\n",
       "      <td>2.190110</td>\n",
       "      <td>1.850000</td>\n",
       "      <td>3.127174</td>\n",
       "      <td>1016.362637</td>\n",
       "      <td>1013.098901</td>\n",
       "      <td>1013.945652</td>\n",
       "      <td>1014.097826</td>\n",
       "    </tr>\n",
       "    <tr>\n",
       "      <th>3</th>\n",
       "      <td>3</td>\n",
       "      <td>Arkansas</td>\n",
       "      <td>58.307692</td>\n",
       "      <td>68.109890</td>\n",
       "      <td>68.304348</td>\n",
       "      <td>67.554348</td>\n",
       "      <td>10.824176</td>\n",
       "      <td>26.076923</td>\n",
       "      <td>30.902174</td>\n",
       "      <td>12.576087</td>\n",
       "      <td>0.231868</td>\n",
       "      <td>1.501099</td>\n",
       "      <td>1.282609</td>\n",
       "      <td>0.541304</td>\n",
       "      <td>1021.076923</td>\n",
       "      <td>1012.945055</td>\n",
       "      <td>1015.217391</td>\n",
       "      <td>1019.086957</td>\n",
       "    </tr>\n",
       "    <tr>\n",
       "      <th>4</th>\n",
       "      <td>4</td>\n",
       "      <td>California</td>\n",
       "      <td>42.681319</td>\n",
       "      <td>34.846154</td>\n",
       "      <td>24.760870</td>\n",
       "      <td>39.195652</td>\n",
       "      <td>15.538462</td>\n",
       "      <td>27.318681</td>\n",
       "      <td>35.010870</td>\n",
       "      <td>18.010870</td>\n",
       "      <td>0.228571</td>\n",
       "      <td>0.002198</td>\n",
       "      <td>0.014130</td>\n",
       "      <td>0.129348</td>\n",
       "      <td>1018.505495</td>\n",
       "      <td>1012.505495</td>\n",
       "      <td>1012.206522</td>\n",
       "      <td>1017.293478</td>\n",
       "    </tr>\n",
       "  </tbody>\n",
       "</table>\n",
       "</div>"
      ],
      "text/plain": [
       "   Unnamed: 0       state  avg_hum_spr  avg_hum_sum  avg_hum_fall  \\\n",
       "0           0     Alabama    73.021978    72.582418     75.326087   \n",
       "1           1      Alaska    67.769231    72.439560     78.293478   \n",
       "2           2     Arizona    82.164835    77.153846     79.891304   \n",
       "3           3    Arkansas    58.307692    68.109890     68.304348   \n",
       "4           4  California    42.681319    34.846154     24.760870   \n",
       "\n",
       "   avg_hum_wint  avg_temp_spr  avg_temp_sum  avg_temp_fall  avg_temp_wint  \\\n",
       "0     75.739130     18.076923     27.604396      30.793478      20.989130   \n",
       "1     75.163043     28.197802     30.000000      29.641304      27.739130   \n",
       "2     81.673913     25.582418     29.054945      28.782609      27.021739   \n",
       "3     67.554348     10.824176     26.076923      30.902174      12.576087   \n",
       "4     39.195652     15.538462     27.318681      35.010870      18.010870   \n",
       "\n",
       "   avg_precip_spr  avg_precip_sum  avg_precip_fall  avg_precip_wint  \\\n",
       "0        1.324176        3.756044         6.307609         2.841304   \n",
       "1        0.081319        2.485714         4.276087         0.751087   \n",
       "2        2.626374        2.190110         1.850000         3.127174   \n",
       "3        0.231868        1.501099         1.282609         0.541304   \n",
       "4        0.228571        0.002198         0.014130         0.129348   \n",
       "\n",
       "   avg_pressure_spr  avg_pressure_sum  avg_pressure_fall  avg_pressure_wint  \n",
       "0       1021.978022       1016.000000        1016.271739        1018.380435  \n",
       "1       1014.450549       1012.296703        1012.597826        1013.260870  \n",
       "2       1016.362637       1013.098901        1013.945652        1014.097826  \n",
       "3       1021.076923       1012.945055        1015.217391        1019.086957  \n",
       "4       1018.505495       1012.505495        1012.206522        1017.293478  "
      ]
     },
     "execution_count": 76,
     "metadata": {},
     "output_type": "execute_result"
    }
   ],
   "source": [
    "climate.head() #Display first 5 rows"
   ]
  },
  {
   "cell_type": "code",
   "execution_count": 77,
   "id": "cdaac3b3-1327-4dbd-9ade-ac04d6295102",
   "metadata": {},
   "outputs": [
    {
     "data": {
      "text/plain": [
       "(50, 18)"
      ]
     },
     "execution_count": 77,
     "metadata": {},
     "output_type": "execute_result"
    }
   ],
   "source": [
    "climate.shape #display rows and columns of dataset (Pandas_class)"
   ]
  },
  {
   "cell_type": "code",
   "execution_count": 78,
   "id": "476d38ea-c0ad-4432-916a-d82156331db7",
   "metadata": {
    "tags": []
   },
   "outputs": [
    {
     "data": {
      "text/plain": [
       "Index(['Unnamed: 0', 'state', 'avg_hum_spr', 'avg_hum_sum', 'avg_hum_fall',\n",
       "       'avg_hum_wint', 'avg_temp_spr', 'avg_temp_sum', 'avg_temp_fall',\n",
       "       'avg_temp_wint', 'avg_precip_spr', 'avg_precip_sum', 'avg_precip_fall',\n",
       "       'avg_precip_wint', 'avg_pressure_spr', 'avg_pressure_sum',\n",
       "       'avg_pressure_fall', 'avg_pressure_wint'],\n",
       "      dtype='object')"
      ]
     },
     "execution_count": 78,
     "metadata": {},
     "output_type": "execute_result"
    }
   ],
   "source": [
    "climate.columns #Names of columns to identify which ones to keep"
   ]
  },
  {
   "cell_type": "code",
   "execution_count": 79,
   "id": "5b2e0b84-1a3d-4891-bce4-ea4e05b4841f",
   "metadata": {
    "tags": []
   },
   "outputs": [],
   "source": [
    "#Deleting not needed columns\n",
    "\n",
    "climate.drop(columns=['Unnamed: 0','avg_hum_spr', 'avg_hum_sum', 'avg_hum_fall',\n",
    "       'avg_hum_wint','avg_precip_spr', 'avg_precip_sum', 'avg_precip_fall',\n",
    "       'avg_precip_wint', 'avg_pressure_spr', 'avg_pressure_sum',\n",
    "       'avg_pressure_fall', 'avg_pressure_wint'], inplace = True)"
   ]
  },
  {
   "cell_type": "code",
   "execution_count": 80,
   "id": "81f622b0-a3aa-40db-9f42-4cc09ce1d3e3",
   "metadata": {},
   "outputs": [
    {
     "data": {
      "text/html": [
       "<div>\n",
       "<style scoped>\n",
       "    .dataframe tbody tr th:only-of-type {\n",
       "        vertical-align: middle;\n",
       "    }\n",
       "\n",
       "    .dataframe tbody tr th {\n",
       "        vertical-align: top;\n",
       "    }\n",
       "\n",
       "    .dataframe thead th {\n",
       "        text-align: right;\n",
       "    }\n",
       "</style>\n",
       "<table border=\"1\" class=\"dataframe\">\n",
       "  <thead>\n",
       "    <tr style=\"text-align: right;\">\n",
       "      <th></th>\n",
       "      <th>state</th>\n",
       "      <th>avg_temp_spr</th>\n",
       "      <th>avg_temp_sum</th>\n",
       "      <th>avg_temp_fall</th>\n",
       "      <th>avg_temp_wint</th>\n",
       "    </tr>\n",
       "  </thead>\n",
       "  <tbody>\n",
       "    <tr>\n",
       "      <th>0</th>\n",
       "      <td>Alabama</td>\n",
       "      <td>18.076923</td>\n",
       "      <td>27.604396</td>\n",
       "      <td>30.793478</td>\n",
       "      <td>20.98913</td>\n",
       "    </tr>\n",
       "    <tr>\n",
       "      <th>1</th>\n",
       "      <td>Alaska</td>\n",
       "      <td>28.197802</td>\n",
       "      <td>30.000000</td>\n",
       "      <td>29.641304</td>\n",
       "      <td>27.73913</td>\n",
       "    </tr>\n",
       "  </tbody>\n",
       "</table>\n",
       "</div>"
      ],
      "text/plain": [
       "     state  avg_temp_spr  avg_temp_sum  avg_temp_fall  avg_temp_wint\n",
       "0  Alabama     18.076923     27.604396      30.793478       20.98913\n",
       "1   Alaska     28.197802     30.000000      29.641304       27.73913"
      ]
     },
     "execution_count": 80,
     "metadata": {},
     "output_type": "execute_result"
    }
   ],
   "source": [
    "climate.head(2)"
   ]
  },
  {
   "cell_type": "code",
   "execution_count": 81,
   "id": "8341d1db-a9c3-460d-9ece-d86033fb6f16",
   "metadata": {
    "tags": []
   },
   "outputs": [
    {
     "name": "stdout",
     "output_type": "stream",
     "text": [
      "<class 'pandas.core.frame.DataFrame'>\n",
      "RangeIndex: 50 entries, 0 to 49\n",
      "Data columns (total 5 columns):\n",
      " #   Column         Non-Null Count  Dtype  \n",
      "---  ------         --------------  -----  \n",
      " 0   state          50 non-null     object \n",
      " 1   avg_temp_spr   50 non-null     float64\n",
      " 2   avg_temp_sum   50 non-null     float64\n",
      " 3   avg_temp_fall  50 non-null     float64\n",
      " 4   avg_temp_wint  50 non-null     float64\n",
      "dtypes: float64(4), object(1)\n",
      "memory usage: 2.1+ KB\n"
     ]
    }
   ],
   "source": [
    "climate.info() #Dsiplay Dtypes to see if something must be modified"
   ]
  },
  {
   "cell_type": "code",
   "execution_count": 82,
   "id": "f302b332-bfeb-48ff-acca-c9815cd9abac",
   "metadata": {},
   "outputs": [
    {
     "data": {
      "text/plain": [
       "state            0\n",
       "avg_temp_spr     0\n",
       "avg_temp_sum     0\n",
       "avg_temp_fall    0\n",
       "avg_temp_wint    0\n",
       "dtype: int64"
      ]
     },
     "execution_count": 82,
     "metadata": {},
     "output_type": "execute_result"
    }
   ],
   "source": [
    "climate.isnull().sum()  # Checking for missing values"
   ]
  },
  {
   "cell_type": "markdown",
   "id": "bb056184-f72f-426c-9796-dd1e251f2f78",
   "metadata": {},
   "source": [
    "#### Next, a new column is created with the average of all 4 stages (spring, summer, fall and winter)"
   ]
  },
  {
   "cell_type": "code",
   "execution_count": 83,
   "id": "c7cd7855-c6cf-49d5-8ffb-7fec82a9a291",
   "metadata": {},
   "outputs": [],
   "source": [
    "climate['avg_temp'] = climate.mean(axis=1)"
   ]
  },
  {
   "cell_type": "code",
   "execution_count": 84,
   "id": "9fcdb590-1b62-49b7-a45f-e60fc7102f00",
   "metadata": {},
   "outputs": [
    {
     "data": {
      "text/html": [
       "<div>\n",
       "<style scoped>\n",
       "    .dataframe tbody tr th:only-of-type {\n",
       "        vertical-align: middle;\n",
       "    }\n",
       "\n",
       "    .dataframe tbody tr th {\n",
       "        vertical-align: top;\n",
       "    }\n",
       "\n",
       "    .dataframe thead th {\n",
       "        text-align: right;\n",
       "    }\n",
       "</style>\n",
       "<table border=\"1\" class=\"dataframe\">\n",
       "  <thead>\n",
       "    <tr style=\"text-align: right;\">\n",
       "      <th></th>\n",
       "      <th>state</th>\n",
       "      <th>avg_temp_spr</th>\n",
       "      <th>avg_temp_sum</th>\n",
       "      <th>avg_temp_fall</th>\n",
       "      <th>avg_temp_wint</th>\n",
       "      <th>avg_temp</th>\n",
       "    </tr>\n",
       "  </thead>\n",
       "  <tbody>\n",
       "    <tr>\n",
       "      <th>0</th>\n",
       "      <td>Alabama</td>\n",
       "      <td>18.076923</td>\n",
       "      <td>27.604396</td>\n",
       "      <td>30.793478</td>\n",
       "      <td>20.989130</td>\n",
       "      <td>24.365982</td>\n",
       "    </tr>\n",
       "    <tr>\n",
       "      <th>1</th>\n",
       "      <td>Alaska</td>\n",
       "      <td>28.197802</td>\n",
       "      <td>30.000000</td>\n",
       "      <td>29.641304</td>\n",
       "      <td>27.739130</td>\n",
       "      <td>28.894559</td>\n",
       "    </tr>\n",
       "    <tr>\n",
       "      <th>2</th>\n",
       "      <td>Arizona</td>\n",
       "      <td>25.582418</td>\n",
       "      <td>29.054945</td>\n",
       "      <td>28.782609</td>\n",
       "      <td>27.021739</td>\n",
       "      <td>27.610428</td>\n",
       "    </tr>\n",
       "    <tr>\n",
       "      <th>3</th>\n",
       "      <td>Arkansas</td>\n",
       "      <td>10.824176</td>\n",
       "      <td>26.076923</td>\n",
       "      <td>30.902174</td>\n",
       "      <td>12.576087</td>\n",
       "      <td>20.094840</td>\n",
       "    </tr>\n",
       "    <tr>\n",
       "      <th>4</th>\n",
       "      <td>California</td>\n",
       "      <td>15.538462</td>\n",
       "      <td>27.318681</td>\n",
       "      <td>35.010870</td>\n",
       "      <td>18.010870</td>\n",
       "      <td>23.969720</td>\n",
       "    </tr>\n",
       "  </tbody>\n",
       "</table>\n",
       "</div>"
      ],
      "text/plain": [
       "        state  avg_temp_spr  avg_temp_sum  avg_temp_fall  avg_temp_wint  \\\n",
       "0     Alabama     18.076923     27.604396      30.793478      20.989130   \n",
       "1      Alaska     28.197802     30.000000      29.641304      27.739130   \n",
       "2     Arizona     25.582418     29.054945      28.782609      27.021739   \n",
       "3    Arkansas     10.824176     26.076923      30.902174      12.576087   \n",
       "4  California     15.538462     27.318681      35.010870      18.010870   \n",
       "\n",
       "    avg_temp  \n",
       "0  24.365982  \n",
       "1  28.894559  \n",
       "2  27.610428  \n",
       "3  20.094840  \n",
       "4  23.969720  "
      ]
     },
     "execution_count": 84,
     "metadata": {},
     "output_type": "execute_result"
    }
   ],
   "source": [
    "climate.head()"
   ]
  },
  {
   "cell_type": "code",
   "execution_count": 85,
   "id": "1efb012b-d022-4df0-af13-c38463b84a2f",
   "metadata": {},
   "outputs": [
    {
     "data": {
      "text/plain": [
       "Index(['state', 'avg_temp_spr', 'avg_temp_sum', 'avg_temp_fall',\n",
       "       'avg_temp_wint', 'avg_temp'],\n",
       "      dtype='object')"
      ]
     },
     "execution_count": 85,
     "metadata": {},
     "output_type": "execute_result"
    }
   ],
   "source": [
    "climate.columns"
   ]
  },
  {
   "cell_type": "code",
   "execution_count": 86,
   "id": "7a1ffffb-2177-4add-93fc-c6ae8c495f32",
   "metadata": {},
   "outputs": [],
   "source": [
    "#Deleting all columns except \"state\" and \"avg_temp\"\n",
    "climate.drop(columns=['avg_temp_spr', 'avg_temp_sum', 'avg_temp_fall',\n",
    "       'avg_temp_wint'], inplace = True)"
   ]
  },
  {
   "cell_type": "code",
   "execution_count": 87,
   "id": "537dbf7d-5487-4507-aa31-01c6f683c723",
   "metadata": {},
   "outputs": [
    {
     "data": {
      "text/html": [
       "<div>\n",
       "<style scoped>\n",
       "    .dataframe tbody tr th:only-of-type {\n",
       "        vertical-align: middle;\n",
       "    }\n",
       "\n",
       "    .dataframe tbody tr th {\n",
       "        vertical-align: top;\n",
       "    }\n",
       "\n",
       "    .dataframe thead th {\n",
       "        text-align: right;\n",
       "    }\n",
       "</style>\n",
       "<table border=\"1\" class=\"dataframe\">\n",
       "  <thead>\n",
       "    <tr style=\"text-align: right;\">\n",
       "      <th></th>\n",
       "      <th>state</th>\n",
       "      <th>avg_temp</th>\n",
       "    </tr>\n",
       "  </thead>\n",
       "  <tbody>\n",
       "    <tr>\n",
       "      <th>0</th>\n",
       "      <td>Alabama</td>\n",
       "      <td>24.365982</td>\n",
       "    </tr>\n",
       "    <tr>\n",
       "      <th>1</th>\n",
       "      <td>Alaska</td>\n",
       "      <td>28.894559</td>\n",
       "    </tr>\n",
       "  </tbody>\n",
       "</table>\n",
       "</div>"
      ],
      "text/plain": [
       "     state   avg_temp\n",
       "0  Alabama  24.365982\n",
       "1   Alaska  28.894559"
      ]
     },
     "execution_count": 87,
     "metadata": {},
     "output_type": "execute_result"
    }
   ],
   "source": [
    "climate.head(2)"
   ]
  },
  {
   "cell_type": "markdown",
   "id": "e3234733-6242-4cc6-9b06-b244bb5026ea",
   "metadata": {},
   "source": [
    "#### Next, state names are changed to avoid future possible problems"
   ]
  },
  {
   "cell_type": "code",
   "execution_count": 88,
   "id": "8c2796f3-09cb-4116-bb10-df33af0a19b8",
   "metadata": {},
   "outputs": [],
   "source": [
    "climate['state'] = [state.replace(' ', '_').lower() for state in climate['state']]"
   ]
  },
  {
   "cell_type": "code",
   "execution_count": 89,
   "id": "314c1022-4b32-46fe-aef4-0b15520c8058",
   "metadata": {
    "tags": []
   },
   "outputs": [
    {
     "data": {
      "text/html": [
       "<div>\n",
       "<style scoped>\n",
       "    .dataframe tbody tr th:only-of-type {\n",
       "        vertical-align: middle;\n",
       "    }\n",
       "\n",
       "    .dataframe tbody tr th {\n",
       "        vertical-align: top;\n",
       "    }\n",
       "\n",
       "    .dataframe thead th {\n",
       "        text-align: right;\n",
       "    }\n",
       "</style>\n",
       "<table border=\"1\" class=\"dataframe\">\n",
       "  <thead>\n",
       "    <tr style=\"text-align: right;\">\n",
       "      <th></th>\n",
       "      <th>state</th>\n",
       "      <th>avg_temp</th>\n",
       "    </tr>\n",
       "  </thead>\n",
       "  <tbody>\n",
       "    <tr>\n",
       "      <th>47</th>\n",
       "      <td>west_virginia</td>\n",
       "      <td>15.238951</td>\n",
       "    </tr>\n",
       "    <tr>\n",
       "      <th>48</th>\n",
       "      <td>wisconsin</td>\n",
       "      <td>10.844362</td>\n",
       "    </tr>\n",
       "    <tr>\n",
       "      <th>49</th>\n",
       "      <td>wyoming</td>\n",
       "      <td>12.645067</td>\n",
       "    </tr>\n",
       "  </tbody>\n",
       "</table>\n",
       "</div>"
      ],
      "text/plain": [
       "            state   avg_temp\n",
       "47  west_virginia  15.238951\n",
       "48      wisconsin  10.844362\n",
       "49        wyoming  12.645067"
      ]
     },
     "execution_count": 89,
     "metadata": {},
     "output_type": "execute_result"
    }
   ],
   "source": [
    "climate.tail(3) #Just enough to check for every possible scenario (lowercased and spaces)"
   ]
  },
  {
   "cell_type": "code",
   "execution_count": 90,
   "id": "0d6688e2-a240-4ae6-9df5-a729fbeebccc",
   "metadata": {},
   "outputs": [],
   "source": [
    "climate.sort_values('state', inplace = True)"
   ]
  },
  {
   "cell_type": "code",
   "execution_count": 92,
   "id": "77f618b4-5acc-4bd9-90bf-c2f1f5a29a6c",
   "metadata": {},
   "outputs": [],
   "source": [
    "climate.to_csv('../data/climate.csv') #Saving as csv file"
   ]
  },
  {
   "cell_type": "code",
   "execution_count": null,
   "id": "569b7d33-e5e7-418f-a6c9-a63e8757439a",
   "metadata": {},
   "outputs": [],
   "source": []
  }
 ],
 "metadata": {
  "kernelspec": {
   "display_name": "Python 3",
   "language": "python",
   "name": "python3"
  },
  "language_info": {
   "codemirror_mode": {
    "name": "ipython",
    "version": 3
   },
   "file_extension": ".py",
   "mimetype": "text/x-python",
   "name": "python",
   "nbconvert_exporter": "python",
   "pygments_lexer": "ipython3",
   "version": "3.8.8"
  }
 },
 "nbformat": 4,
 "nbformat_minor": 5
}
