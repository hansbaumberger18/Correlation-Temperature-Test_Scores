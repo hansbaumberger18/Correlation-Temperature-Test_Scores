{
 "cells": [
  {
   "cell_type": "markdown",
   "id": "78e190ed-f3d1-4af9-850c-60ac2215412b",
   "metadata": {},
   "source": [
    "# Data analysis: EDA and visualization"
   ]
  },
  {
   "cell_type": "markdown",
   "id": "749daf74-66b8-45ac-9020-81ae1ce5ccf6",
   "metadata": {},
   "source": [
    "#### In this particular notebook the data will be analyzed to study the correlation between weather temperature and test scores by state"
   ]
  },
  {
   "cell_type": "code",
   "execution_count": 1,
   "id": "3c391d3d-7b88-4b63-8e1a-13fd4bbf3299",
   "metadata": {},
   "outputs": [],
   "source": [
    "import seaborn as sns\n",
    "import matplotlib.pyplot as plt\n",
    "import pandas as pd"
   ]
  },
  {
   "cell_type": "code",
   "execution_count": 2,
   "id": "ae82d74d-a454-4597-848e-08b50439e0f5",
   "metadata": {},
   "outputs": [],
   "source": [
    "data = pd.read_csv('../data/all_in_one.csv')"
   ]
  },
  {
   "cell_type": "code",
   "execution_count": 3,
   "id": "c50ea712-0b21-403b-8b46-1d50aae510a0",
   "metadata": {},
   "outputs": [
    {
     "data": {
      "text/html": [
       "<div>\n",
       "<style scoped>\n",
       "    .dataframe tbody tr th:only-of-type {\n",
       "        vertical-align: middle;\n",
       "    }\n",
       "\n",
       "    .dataframe tbody tr th {\n",
       "        vertical-align: top;\n",
       "    }\n",
       "\n",
       "    .dataframe thead th {\n",
       "        text-align: right;\n",
       "    }\n",
       "</style>\n",
       "<table border=\"1\" class=\"dataframe\">\n",
       "  <thead>\n",
       "    <tr style=\"text-align: right;\">\n",
       "      <th></th>\n",
       "      <th>Unnamed: 0</th>\n",
       "      <th>state</th>\n",
       "      <th>score_sat</th>\n",
       "      <th>participation_%_sat</th>\n",
       "      <th>score_act</th>\n",
       "      <th>participation_%_act</th>\n",
       "      <th>avg_temp</th>\n",
       "    </tr>\n",
       "  </thead>\n",
       "  <tbody>\n",
       "    <tr>\n",
       "      <th>0</th>\n",
       "      <td>0</td>\n",
       "      <td>alabama</td>\n",
       "      <td>1166</td>\n",
       "      <td>6.0</td>\n",
       "      <td>19.1</td>\n",
       "      <td>100.0</td>\n",
       "      <td>24.365982</td>\n",
       "    </tr>\n",
       "    <tr>\n",
       "      <th>1</th>\n",
       "      <td>1</td>\n",
       "      <td>alaska</td>\n",
       "      <td>1106</td>\n",
       "      <td>43.0</td>\n",
       "      <td>20.8</td>\n",
       "      <td>33.0</td>\n",
       "      <td>28.894559</td>\n",
       "    </tr>\n",
       "    <tr>\n",
       "      <th>2</th>\n",
       "      <td>2</td>\n",
       "      <td>arizona</td>\n",
       "      <td>1149</td>\n",
       "      <td>29.0</td>\n",
       "      <td>19.2</td>\n",
       "      <td>66.0</td>\n",
       "      <td>27.610428</td>\n",
       "    </tr>\n",
       "    <tr>\n",
       "      <th>3</th>\n",
       "      <td>3</td>\n",
       "      <td>arkansas</td>\n",
       "      <td>1169</td>\n",
       "      <td>5.0</td>\n",
       "      <td>19.4</td>\n",
       "      <td>100.0</td>\n",
       "      <td>20.094840</td>\n",
       "    </tr>\n",
       "    <tr>\n",
       "      <th>4</th>\n",
       "      <td>4</td>\n",
       "      <td>california</td>\n",
       "      <td>1076</td>\n",
       "      <td>60.0</td>\n",
       "      <td>22.7</td>\n",
       "      <td>27.0</td>\n",
       "      <td>23.969720</td>\n",
       "    </tr>\n",
       "  </tbody>\n",
       "</table>\n",
       "</div>"
      ],
      "text/plain": [
       "   Unnamed: 0       state  score_sat  participation_%_sat  score_act  \\\n",
       "0           0     alabama       1166                  6.0       19.1   \n",
       "1           1      alaska       1106                 43.0       20.8   \n",
       "2           2     arizona       1149                 29.0       19.2   \n",
       "3           3    arkansas       1169                  5.0       19.4   \n",
       "4           4  california       1076                 60.0       22.7   \n",
       "\n",
       "   participation_%_act   avg_temp  \n",
       "0                100.0  24.365982  \n",
       "1                 33.0  28.894559  \n",
       "2                 66.0  27.610428  \n",
       "3                100.0  20.094840  \n",
       "4                 27.0  23.969720  "
      ]
     },
     "execution_count": 3,
     "metadata": {},
     "output_type": "execute_result"
    }
   ],
   "source": [
    "data.head()"
   ]
  },
  {
   "cell_type": "code",
   "execution_count": 4,
   "id": "2c811c7c-b455-40c9-834f-02726e766d4f",
   "metadata": {},
   "outputs": [],
   "source": [
    "# Deleting the unwanted column\n",
    "\n",
    "data.drop(columns=['Unnamed: 0'],inplace =True) "
   ]
  },
  {
   "cell_type": "code",
   "execution_count": 7,
   "id": "e8f1f5d1-6f5f-4d15-84be-d850f3512d3b",
   "metadata": {},
   "outputs": [
    {
     "name": "stdout",
     "output_type": "stream",
     "text": [
      "<class 'pandas.core.frame.DataFrame'>\n",
      "RangeIndex: 50 entries, 0 to 49\n",
      "Data columns (total 6 columns):\n",
      " #   Column               Non-Null Count  Dtype  \n",
      "---  ------               --------------  -----  \n",
      " 0   state                50 non-null     object \n",
      " 1   score_sat            50 non-null     int64  \n",
      " 2   participation_%_sat  50 non-null     float64\n",
      " 3   score_act            50 non-null     float64\n",
      " 4   participation_%_act  50 non-null     float64\n",
      " 5   avg_temp             50 non-null     float64\n",
      "dtypes: float64(4), int64(1), object(1)\n",
      "memory usage: 2.5+ KB\n"
     ]
    }
   ],
   "source": [
    "data.info()"
   ]
  },
  {
   "cell_type": "code",
   "execution_count": 8,
   "id": "501a91b8-2fbb-4607-90bb-7b82731cd2b5",
   "metadata": {},
   "outputs": [
    {
     "data": {
      "text/plain": [
       "(50, 6)"
      ]
     },
     "execution_count": 8,
     "metadata": {},
     "output_type": "execute_result"
    }
   ],
   "source": [
    "data.shape"
   ]
  },
  {
   "cell_type": "code",
   "execution_count": 9,
   "id": "f2552090-9beb-4c8c-a7b0-2d59ab7b0580",
   "metadata": {},
   "outputs": [
    {
     "data": {
      "text/html": [
       "<div>\n",
       "<style scoped>\n",
       "    .dataframe tbody tr th:only-of-type {\n",
       "        vertical-align: middle;\n",
       "    }\n",
       "\n",
       "    .dataframe tbody tr th {\n",
       "        vertical-align: top;\n",
       "    }\n",
       "\n",
       "    .dataframe thead th {\n",
       "        text-align: right;\n",
       "    }\n",
       "</style>\n",
       "<table border=\"1\" class=\"dataframe\">\n",
       "  <thead>\n",
       "    <tr style=\"text-align: right;\">\n",
       "      <th></th>\n",
       "      <th>score_sat</th>\n",
       "      <th>participation_%_sat</th>\n",
       "      <th>score_act</th>\n",
       "      <th>participation_%_act</th>\n",
       "      <th>avg_temp</th>\n",
       "    </tr>\n",
       "  </thead>\n",
       "  <tbody>\n",
       "    <tr>\n",
       "      <th>count</th>\n",
       "      <td>50.000000</td>\n",
       "      <td>50.000000</td>\n",
       "      <td>50.000000</td>\n",
       "      <td>50.000000</td>\n",
       "      <td>50.000000</td>\n",
       "    </tr>\n",
       "    <tr>\n",
       "      <th>mean</th>\n",
       "      <td>1122.880000</td>\n",
       "      <td>44.820000</td>\n",
       "      <td>21.454000</td>\n",
       "      <td>62.320000</td>\n",
       "      <td>18.314655</td>\n",
       "    </tr>\n",
       "    <tr>\n",
       "      <th>std</th>\n",
       "      <td>92.845634</td>\n",
       "      <td>37.097604</td>\n",
       "      <td>2.111312</td>\n",
       "      <td>34.114118</td>\n",
       "      <td>5.611421</td>\n",
       "    </tr>\n",
       "    <tr>\n",
       "      <th>min</th>\n",
       "      <td>998.000000</td>\n",
       "      <td>2.000000</td>\n",
       "      <td>17.700000</td>\n",
       "      <td>7.000000</td>\n",
       "      <td>9.026965</td>\n",
       "    </tr>\n",
       "    <tr>\n",
       "      <th>25%</th>\n",
       "      <td>1062.250000</td>\n",
       "      <td>4.250000</td>\n",
       "      <td>19.925000</td>\n",
       "      <td>27.750000</td>\n",
       "      <td>14.572399</td>\n",
       "    </tr>\n",
       "    <tr>\n",
       "      <th>50%</th>\n",
       "      <td>1098.500000</td>\n",
       "      <td>50.000000</td>\n",
       "      <td>21.050000</td>\n",
       "      <td>66.000000</td>\n",
       "      <td>16.549630</td>\n",
       "    </tr>\n",
       "    <tr>\n",
       "      <th>75%</th>\n",
       "      <td>1207.000000</td>\n",
       "      <td>74.500000</td>\n",
       "      <td>23.650000</td>\n",
       "      <td>100.000000</td>\n",
       "      <td>22.852888</td>\n",
       "    </tr>\n",
       "    <tr>\n",
       "      <th>max</th>\n",
       "      <td>1298.000000</td>\n",
       "      <td>100.000000</td>\n",
       "      <td>25.600000</td>\n",
       "      <td>100.000000</td>\n",
       "      <td>36.123358</td>\n",
       "    </tr>\n",
       "  </tbody>\n",
       "</table>\n",
       "</div>"
      ],
      "text/plain": [
       "         score_sat  participation_%_sat  score_act  participation_%_act  \\\n",
       "count    50.000000            50.000000  50.000000            50.000000   \n",
       "mean   1122.880000            44.820000  21.454000            62.320000   \n",
       "std      92.845634            37.097604   2.111312            34.114118   \n",
       "min     998.000000             2.000000  17.700000             7.000000   \n",
       "25%    1062.250000             4.250000  19.925000            27.750000   \n",
       "50%    1098.500000            50.000000  21.050000            66.000000   \n",
       "75%    1207.000000            74.500000  23.650000           100.000000   \n",
       "max    1298.000000           100.000000  25.600000           100.000000   \n",
       "\n",
       "        avg_temp  \n",
       "count  50.000000  \n",
       "mean   18.314655  \n",
       "std     5.611421  \n",
       "min     9.026965  \n",
       "25%    14.572399  \n",
       "50%    16.549630  \n",
       "75%    22.852888  \n",
       "max    36.123358  "
      ]
     },
     "execution_count": 9,
     "metadata": {},
     "output_type": "execute_result"
    }
   ],
   "source": [
    "data.describe()"
   ]
  },
  {
   "cell_type": "markdown",
   "id": "071ae1be-7ec4-4920-8c90-7a1c7ecb6e2f",
   "metadata": {},
   "source": [
    "### Observations:\n",
    "#### 1. The mean participation is considerably higher (17.5%) in the ACT.\n",
    "#### 2. STD is pretty similar, which makes sense because the spread of scores should be similar disregardin the type of test.\n",
    "#### 3. The maximum and minimum SAT and ACT scores are within their boundries."
   ]
  },
  {
   "cell_type": "markdown",
   "id": "4267c257-05eb-44e7-b35b-9cd0c4b96410",
   "metadata": {},
   "source": [
    "#### Next, I check if there are any outliers in the average temperature column (SAT and ACT have been already checked for abnormal data in their data preparation notebooks):"
   ]
  },
  {
   "cell_type": "code",
   "execution_count": 10,
   "id": "3bac03ea-924b-4d8e-b42a-e405877e808a",
   "metadata": {},
   "outputs": [
    {
     "data": {
      "image/png": "[encoded data removed]",
      "text/plain": [
       "<Figure size 720x360 with 1 Axes>"
      ]
     },
     "metadata": {
      "needs_background": "light"
     },
     "output_type": "display_data"
    }
   ],
   "source": [
    "import warnings\n",
    "warnings.filterwarnings('ignore')\n",
    "\n",
    "plt.figure(figsize=(10, 5))\n",
    "sns.boxplot(data['avg_temp'], fliersize = 10)\n",
    "plt.title(label = 'Identifying any temperature outliers', fontdict = {'size': 30}, loc = 'center')\n",
    "plt.xlabel('Temperature', fontdict = {'size': 20}, loc = 'center');"
   ]
  },
  {
   "cell_type": "code",
   "execution_count": 11,
   "id": "eb0d772d-577c-469d-9862-d96cb5d19095",
   "metadata": {},
   "outputs": [],
   "source": [
    "new_data = data"
   ]
  },
  {
   "cell_type": "code",
   "execution_count": 12,
   "id": "710236cd-5771-4891-888d-324f5c7d34c1",
   "metadata": {},
   "outputs": [
    {
     "data": {
      "text/html": [
       "<div>\n",
       "<style scoped>\n",
       "    .dataframe tbody tr th:only-of-type {\n",
       "        vertical-align: middle;\n",
       "    }\n",
       "\n",
       "    .dataframe tbody tr th {\n",
       "        vertical-align: top;\n",
       "    }\n",
       "\n",
       "    .dataframe thead th {\n",
       "        text-align: right;\n",
       "    }\n",
       "</style>\n",
       "<table border=\"1\" class=\"dataframe\">\n",
       "  <thead>\n",
       "    <tr style=\"text-align: right;\">\n",
       "      <th></th>\n",
       "      <th>state</th>\n",
       "      <th>score_sat</th>\n",
       "      <th>participation_%_sat</th>\n",
       "      <th>score_act</th>\n",
       "      <th>participation_%_act</th>\n",
       "      <th>avg_temp</th>\n",
       "    </tr>\n",
       "  </thead>\n",
       "  <tbody>\n",
       "    <tr>\n",
       "      <th>18</th>\n",
       "      <td>maine</td>\n",
       "      <td>1013</td>\n",
       "      <td>99.0</td>\n",
       "      <td>24.0</td>\n",
       "      <td>7.0</td>\n",
       "      <td>36.123358</td>\n",
       "    </tr>\n",
       "  </tbody>\n",
       "</table>\n",
       "</div>"
      ],
      "text/plain": [
       "    state  score_sat  participation_%_sat  score_act  participation_%_act  \\\n",
       "18  maine       1013                 99.0       24.0                  7.0   \n",
       "\n",
       "     avg_temp  \n",
       "18  36.123358  "
      ]
     },
     "execution_count": 12,
     "metadata": {},
     "output_type": "execute_result"
    }
   ],
   "source": [
    "new_data.sort_values('avg_temp', ascending = False).head(1)"
   ]
  },
  {
   "cell_type": "markdown",
   "id": "8a50aa82-8a66-43c1-89eb-2a7c1c72bba4",
   "metadata": {},
   "source": [
    "#### The outlier state 'Main' is identified and later removed"
   ]
  },
  {
   "cell_type": "code",
   "execution_count": 13,
   "id": "ed408e84-a562-45ec-9834-b93acb623eb1",
   "metadata": {},
   "outputs": [],
   "source": [
    "i = new_data[new_data.state == 'maine'].index #Looking for the row index"
   ]
  },
  {
   "cell_type": "code",
   "execution_count": 14,
   "id": "b7d1fb72-f8d6-44e2-a60e-2bbe08eb236d",
   "metadata": {},
   "outputs": [
    {
     "data": {
      "text/plain": [
       "Int64Index([18], dtype='int64')"
      ]
     },
     "execution_count": 14,
     "metadata": {},
     "output_type": "execute_result"
    }
   ],
   "source": [
    "i"
   ]
  },
  {
   "cell_type": "code",
   "execution_count": 15,
   "id": "a25127cb-f0c3-47c0-910c-fb0afe0bd99b",
   "metadata": {},
   "outputs": [],
   "source": [
    "new_data.drop(labels = 18, axis = 0, inplace = True) #Deleting \"maine\" row"
   ]
  },
  {
   "cell_type": "code",
   "execution_count": 18,
   "id": "3b6229b1-4873-4df0-9a00-57c1e7cbf71c",
   "metadata": {},
   "outputs": [
    {
     "data": {
      "text/plain": [
       "(49, 6)"
      ]
     },
     "execution_count": 18,
     "metadata": {},
     "output_type": "execute_result"
    }
   ],
   "source": [
    "data.shape"
   ]
  },
  {
   "cell_type": "markdown",
   "id": "ef3f7df1-1039-480c-8e03-0e22e2697ca3",
   "metadata": {},
   "source": [
    "#### Next, correlation between test scores and state temperatures are studied"
   ]
  },
  {
   "cell_type": "code",
   "execution_count": 19,
   "id": "7ff2ed4c-2b6d-46ea-822f-d10dbefafd21",
   "metadata": {},
   "outputs": [
    {
     "data": {
      "text/html": [
       "<div>\n",
       "<style scoped>\n",
       "    .dataframe tbody tr th:only-of-type {\n",
       "        vertical-align: middle;\n",
       "    }\n",
       "\n",
       "    .dataframe tbody tr th {\n",
       "        vertical-align: top;\n",
       "    }\n",
       "\n",
       "    .dataframe thead th {\n",
       "        text-align: right;\n",
       "    }\n",
       "</style>\n",
       "<table border=\"1\" class=\"dataframe\">\n",
       "  <thead>\n",
       "    <tr style=\"text-align: right;\">\n",
       "      <th></th>\n",
       "      <th>score_sat</th>\n",
       "      <th>participation_%_sat</th>\n",
       "      <th>score_act</th>\n",
       "      <th>participation_%_act</th>\n",
       "      <th>avg_temp</th>\n",
       "    </tr>\n",
       "  </thead>\n",
       "  <tbody>\n",
       "    <tr>\n",
       "      <th>score_sat</th>\n",
       "      <td>1.000000</td>\n",
       "      <td>-0.770420</td>\n",
       "      <td>-0.376341</td>\n",
       "      <td>0.598675</td>\n",
       "      <td>-0.019780</td>\n",
       "    </tr>\n",
       "    <tr>\n",
       "      <th>participation_%_sat</th>\n",
       "      <td>-0.770420</td>\n",
       "      <td>1.000000</td>\n",
       "      <td>0.746531</td>\n",
       "      <td>-0.859521</td>\n",
       "      <td>-0.092106</td>\n",
       "    </tr>\n",
       "    <tr>\n",
       "      <th>score_act</th>\n",
       "      <td>-0.376341</td>\n",
       "      <td>0.746531</td>\n",
       "      <td>1.000000</td>\n",
       "      <td>-0.857155</td>\n",
       "      <td>-0.380861</td>\n",
       "    </tr>\n",
       "    <tr>\n",
       "      <th>participation_%_act</th>\n",
       "      <td>0.598675</td>\n",
       "      <td>-0.859521</td>\n",
       "      <td>-0.857155</td>\n",
       "      <td>1.000000</td>\n",
       "      <td>0.075502</td>\n",
       "    </tr>\n",
       "    <tr>\n",
       "      <th>avg_temp</th>\n",
       "      <td>-0.019780</td>\n",
       "      <td>-0.092106</td>\n",
       "      <td>-0.380861</td>\n",
       "      <td>0.075502</td>\n",
       "      <td>1.000000</td>\n",
       "    </tr>\n",
       "  </tbody>\n",
       "</table>\n",
       "</div>"
      ],
      "text/plain": [
       "                     score_sat  participation_%_sat  score_act  \\\n",
       "score_sat             1.000000            -0.770420  -0.376341   \n",
       "participation_%_sat  -0.770420             1.000000   0.746531   \n",
       "score_act            -0.376341             0.746531   1.000000   \n",
       "participation_%_act   0.598675            -0.859521  -0.857155   \n",
       "avg_temp             -0.019780            -0.092106  -0.380861   \n",
       "\n",
       "                     participation_%_act  avg_temp  \n",
       "score_sat                       0.598675 -0.019780  \n",
       "participation_%_sat            -0.859521 -0.092106  \n",
       "score_act                      -0.857155 -0.380861  \n",
       "participation_%_act             1.000000  0.075502  \n",
       "avg_temp                        0.075502  1.000000  "
      ]
     },
     "execution_count": 19,
     "metadata": {},
     "output_type": "execute_result"
    }
   ],
   "source": [
    "new_data.corr()"
   ]
  },
  {
   "cell_type": "code",
   "execution_count": 20,
   "id": "8fcad02d-4908-45a0-b317-6dbc9a6363fa",
   "metadata": {},
   "outputs": [
    {
     "data": {
      "image/png": "[encoded data removed]",
      "text/plain": [
       "<Figure size 720x720 with 2 Axes>"
      ]
     },
     "metadata": {
      "needs_background": "light"
     },
     "output_type": "display_data"
    }
   ],
   "source": [
    "plt.figure(figsize = (10,10))\n",
    "sns.heatmap(new_data.corr(),\n",
    "            cmap = 'winter',\n",
    "            annot = True,\n",
    "           vmin = -1,\n",
    "           vmax = 1)\n",
    "plt.yticks(rotation='horizontal')  #This code was taken from: https://stackoverflow.com/questions/11244514/modify-tick-label-text\n",
    "plt.title(label = 'Correlation heatmap', fontdict = {'size': 30}, loc = 'center');"
   ]
  },
  {
   "cell_type": "markdown",
   "id": "b4f651fa-eddd-47a5-a1ed-300f0399a521",
   "metadata": {},
   "source": [
    "### Correlation meaning:\n",
    "#### - Perfect: (+-)1\n",
    "#### - Strong:(+-) 0.75 to 1\n",
    "#### - Moderate: (+-) 0.5 to 0.75\n",
    "#### - Weak: < (+-)0.5"
   ]
  },
  {
   "cell_type": "markdown",
   "id": "b8f60a4b-a92a-43f4-aa7d-f230754f7537",
   "metadata": {},
   "source": [
    "#### The most interesting correlation for this particular projet is the relation between scores and average temperature, as well as participation rates and avergae temperature. These are some interesting insights from this heatmap:\n",
    "#### - There is very weak correlation between SAT scores and ACT scores\n",
    "#### - There is a strong negative correlation between participation rate and score for each individual test\n",
    "#### - There is practically no correlation between the average temperature of states and test scores or participation rates"
   ]
  },
  {
   "cell_type": "markdown",
   "id": "81e9d04d-b32f-4819-a936-9e4365394e3b",
   "metadata": {},
   "source": [
    "#### Next, one example of each insight will be displayed:"
   ]
  },
  {
   "cell_type": "code",
   "execution_count": 21,
   "id": "db18fc56-555a-432f-84c6-2e6673d27d15",
   "metadata": {},
   "outputs": [
    {
     "data": {
      "image/png": "[encoded data removed]",
      "text/plain": [
       "<Figure size 720x576 with 1 Axes>"
      ]
     },
     "metadata": {
      "needs_background": "light"
     },
     "output_type": "display_data"
    }
   ],
   "source": [
    "plt.figure(figsize = (10,8))\n",
    "\n",
    "sns.scatterplot(new_data['score_sat'], new_data['score_act'])\n",
    "plt.title(label = 'Correlation: SAT-ACT scores', fontdict = {'size': 30}, loc = 'center');"
   ]
  },
  {
   "cell_type": "markdown",
   "id": "afeb5ad8-c2b5-4375-978e-5febfb2777b1",
   "metadata": {},
   "source": [
    "#### There is no clear pattern that shows any clear relation."
   ]
  },
  {
   "cell_type": "code",
   "execution_count": 22,
   "id": "8cb4d118-9d3b-444f-bf7d-5d7d962b2861",
   "metadata": {},
   "outputs": [
    {
     "data": {
      "image/png": "[encoded data removed]",
      "text/plain": [
       "<Figure size 720x576 with 1 Axes>"
      ]
     },
     "metadata": {
      "needs_background": "light"
     },
     "output_type": "display_data"
    }
   ],
   "source": [
    "plt.figure(figsize = (10,8))\n",
    "\n",
    "sns.scatterplot(new_data['participation_%_sat'], new_data['score_sat'])\n",
    "plt.title(label = 'Participation rate - SAT scores', fontdict = {'size': 30}, loc = 'center');"
   ]
  },
  {
   "cell_type": "markdown",
   "id": "c8200f76-86f1-49da-9a43-bdd8a278d4c5",
   "metadata": {},
   "source": [
    "#### As shown, there is a negative correlation. When participation rates increase, scores decrease"
   ]
  },
  {
   "cell_type": "code",
   "execution_count": 23,
   "id": "3cee8b88-eef4-4428-a950-06e9d7cd2e60",
   "metadata": {},
   "outputs": [
    {
     "data": {
      "image/png": "[encoded data removed]",
      "text/plain": [
       "<Figure size 720x576 with 1 Axes>"
      ]
     },
     "metadata": {
      "needs_background": "light"
     },
     "output_type": "display_data"
    }
   ],
   "source": [
    "plt.figure(figsize = (10,8))\n",
    "\n",
    "sns.scatterplot(new_data['avg_temp'], new_data['score_act'])\n",
    "plt.title(label = 'Average temperature - SAT scores', fontdict = {'size': 30}, loc = 'center');"
   ]
  },
  {
   "cell_type": "markdown",
   "id": "172c6d85-a4c8-4e54-a9a1-0c65d0fb695f",
   "metadata": {},
   "source": [
    "#### There is no clear pattern that shows any clear relation."
   ]
  },
  {
   "cell_type": "markdown",
   "id": "b69760f1-825e-4fac-b3bc-3fc7017c0d6e",
   "metadata": {
    "tags": []
   },
   "source": [
    "#### \n",
    "#### Next, a new dataset with only the states with the top 5 maximum and minimum average temperatures too check if the correlation between that parameter and test scores increases."
   ]
  },
  {
   "cell_type": "code",
   "execution_count": 32,
   "id": "8fba480f-c098-40be-b6df-5f48d2200e15",
   "metadata": {},
   "outputs": [
    {
     "data": {
      "text/plain": [
       "(39, 6)"
      ]
     },
     "execution_count": 32,
     "metadata": {},
     "output_type": "execute_result"
    }
   ],
   "source": [
    "data_clean.shape"
   ]
  },
  {
   "cell_type": "code",
   "execution_count": 38,
   "id": "47805784-1ea1-4e0f-92c4-fad52c876ede",
   "metadata": {},
   "outputs": [],
   "source": [
    "data_c = new_data.sort_values('avg_temp', ascending = False).iloc[:5]"
   ]
  },
  {
   "cell_type": "code",
   "execution_count": 39,
   "id": "433d19cd-0840-4dbf-9a43-d3330f9e77a6",
   "metadata": {},
   "outputs": [
    {
     "data": {
      "text/html": [
       "<div>\n",
       "<style scoped>\n",
       "    .dataframe tbody tr th:only-of-type {\n",
       "        vertical-align: middle;\n",
       "    }\n",
       "\n",
       "    .dataframe tbody tr th {\n",
       "        vertical-align: top;\n",
       "    }\n",
       "\n",
       "    .dataframe thead th {\n",
       "        text-align: right;\n",
       "    }\n",
       "</style>\n",
       "<table border=\"1\" class=\"dataframe\">\n",
       "  <thead>\n",
       "    <tr style=\"text-align: right;\">\n",
       "      <th></th>\n",
       "      <th>state</th>\n",
       "      <th>score_sat</th>\n",
       "      <th>participation_%_sat</th>\n",
       "      <th>score_act</th>\n",
       "      <th>participation_%_act</th>\n",
       "      <th>avg_temp</th>\n",
       "    </tr>\n",
       "  </thead>\n",
       "  <tbody>\n",
       "    <tr>\n",
       "      <th>1</th>\n",
       "      <td>alaska</td>\n",
       "      <td>1106</td>\n",
       "      <td>43.0</td>\n",
       "      <td>20.8</td>\n",
       "      <td>33.0</td>\n",
       "      <td>28.894559</td>\n",
       "    </tr>\n",
       "    <tr>\n",
       "      <th>2</th>\n",
       "      <td>arizona</td>\n",
       "      <td>1149</td>\n",
       "      <td>29.0</td>\n",
       "      <td>19.2</td>\n",
       "      <td>66.0</td>\n",
       "      <td>27.610428</td>\n",
       "    </tr>\n",
       "    <tr>\n",
       "      <th>44</th>\n",
       "      <td>vermont</td>\n",
       "      <td>1120</td>\n",
       "      <td>64.0</td>\n",
       "      <td>24.1</td>\n",
       "      <td>24.0</td>\n",
       "      <td>27.381898</td>\n",
       "    </tr>\n",
       "    <tr>\n",
       "      <th>16</th>\n",
       "      <td>kentucky</td>\n",
       "      <td>1248</td>\n",
       "      <td>4.0</td>\n",
       "      <td>20.2</td>\n",
       "      <td>100.0</td>\n",
       "      <td>26.900532</td>\n",
       "    </tr>\n",
       "    <tr>\n",
       "      <th>24</th>\n",
       "      <td>missouri</td>\n",
       "      <td>1262</td>\n",
       "      <td>4.0</td>\n",
       "      <td>20.0</td>\n",
       "      <td>100.0</td>\n",
       "      <td>25.339226</td>\n",
       "    </tr>\n",
       "  </tbody>\n",
       "</table>\n",
       "</div>"
      ],
      "text/plain": [
       "       state  score_sat  participation_%_sat  score_act  participation_%_act  \\\n",
       "1     alaska       1106                 43.0       20.8                 33.0   \n",
       "2    arizona       1149                 29.0       19.2                 66.0   \n",
       "44   vermont       1120                 64.0       24.1                 24.0   \n",
       "16  kentucky       1248                  4.0       20.2                100.0   \n",
       "24  missouri       1262                  4.0       20.0                100.0   \n",
       "\n",
       "     avg_temp  \n",
       "1   28.894559  \n",
       "2   27.610428  \n",
       "44  27.381898  \n",
       "16  26.900532  \n",
       "24  25.339226  "
      ]
     },
     "execution_count": 39,
     "metadata": {},
     "output_type": "execute_result"
    }
   ],
   "source": [
    "data_c"
   ]
  },
  {
   "cell_type": "code",
   "execution_count": 40,
   "id": "1b250502-5689-490e-9141-dfde8600fe8c",
   "metadata": {},
   "outputs": [],
   "source": [
    "data_to_concatenate = new_data.sort_values('avg_temp').iloc[:5]"
   ]
  },
  {
   "cell_type": "code",
   "execution_count": 41,
   "id": "23e58cae-59c6-4693-ae13-31c2b5e4a611",
   "metadata": {},
   "outputs": [
    {
     "data": {
      "text/html": [
       "<div>\n",
       "<style scoped>\n",
       "    .dataframe tbody tr th:only-of-type {\n",
       "        vertical-align: middle;\n",
       "    }\n",
       "\n",
       "    .dataframe tbody tr th {\n",
       "        vertical-align: top;\n",
       "    }\n",
       "\n",
       "    .dataframe thead th {\n",
       "        text-align: right;\n",
       "    }\n",
       "</style>\n",
       "<table border=\"1\" class=\"dataframe\">\n",
       "  <thead>\n",
       "    <tr style=\"text-align: right;\">\n",
       "      <th></th>\n",
       "      <th>state</th>\n",
       "      <th>score_sat</th>\n",
       "      <th>participation_%_sat</th>\n",
       "      <th>score_act</th>\n",
       "      <th>participation_%_act</th>\n",
       "      <th>avg_temp</th>\n",
       "    </tr>\n",
       "  </thead>\n",
       "  <tbody>\n",
       "    <tr>\n",
       "      <th>43</th>\n",
       "      <td>utah</td>\n",
       "      <td>1010</td>\n",
       "      <td>4.0</td>\n",
       "      <td>20.4</td>\n",
       "      <td>100.0</td>\n",
       "      <td>9.026965</td>\n",
       "    </tr>\n",
       "    <tr>\n",
       "      <th>22</th>\n",
       "      <td>minnesota</td>\n",
       "      <td>1298</td>\n",
       "      <td>4.0</td>\n",
       "      <td>21.3</td>\n",
       "      <td>99.0</td>\n",
       "      <td>10.711538</td>\n",
       "    </tr>\n",
       "    <tr>\n",
       "      <th>40</th>\n",
       "      <td>south_dakota</td>\n",
       "      <td>1240</td>\n",
       "      <td>3.0</td>\n",
       "      <td>21.9</td>\n",
       "      <td>77.0</td>\n",
       "      <td>10.737697</td>\n",
       "    </tr>\n",
       "    <tr>\n",
       "      <th>48</th>\n",
       "      <td>wisconsin</td>\n",
       "      <td>1294</td>\n",
       "      <td>3.0</td>\n",
       "      <td>20.5</td>\n",
       "      <td>100.0</td>\n",
       "      <td>10.844362</td>\n",
       "    </tr>\n",
       "    <tr>\n",
       "      <th>21</th>\n",
       "      <td>michigan</td>\n",
       "      <td>1011</td>\n",
       "      <td>100.0</td>\n",
       "      <td>24.2</td>\n",
       "      <td>22.0</td>\n",
       "      <td>12.211568</td>\n",
       "    </tr>\n",
       "  </tbody>\n",
       "</table>\n",
       "</div>"
      ],
      "text/plain": [
       "           state  score_sat  participation_%_sat  score_act  \\\n",
       "43          utah       1010                  4.0       20.4   \n",
       "22     minnesota       1298                  4.0       21.3   \n",
       "40  south_dakota       1240                  3.0       21.9   \n",
       "48     wisconsin       1294                  3.0       20.5   \n",
       "21      michigan       1011                100.0       24.2   \n",
       "\n",
       "    participation_%_act   avg_temp  \n",
       "43                100.0   9.026965  \n",
       "22                 99.0  10.711538  \n",
       "40                 77.0  10.737697  \n",
       "48                100.0  10.844362  \n",
       "21                 22.0  12.211568  "
      ]
     },
     "execution_count": 41,
     "metadata": {},
     "output_type": "execute_result"
    }
   ],
   "source": [
    "data_to_concatenate"
   ]
  },
  {
   "cell_type": "code",
   "execution_count": 43,
   "id": "cf7c0541-02a1-4932-b926-0bf6ab618be6",
   "metadata": {},
   "outputs": [],
   "source": [
    "# This code was taken from https://pandas.pydata.org/pandas-docs/stable/user_guide/merging.html\n",
    "new_set = data_c.append(data_to_concatenate)"
   ]
  },
  {
   "cell_type": "code",
   "execution_count": 44,
   "id": "12b482de-d430-4e0a-8746-da2cc5872ac7",
   "metadata": {},
   "outputs": [
    {
     "data": {
      "text/html": [
       "<div>\n",
       "<style scoped>\n",
       "    .dataframe tbody tr th:only-of-type {\n",
       "        vertical-align: middle;\n",
       "    }\n",
       "\n",
       "    .dataframe tbody tr th {\n",
       "        vertical-align: top;\n",
       "    }\n",
       "\n",
       "    .dataframe thead th {\n",
       "        text-align: right;\n",
       "    }\n",
       "</style>\n",
       "<table border=\"1\" class=\"dataframe\">\n",
       "  <thead>\n",
       "    <tr style=\"text-align: right;\">\n",
       "      <th></th>\n",
       "      <th>state</th>\n",
       "      <th>score_sat</th>\n",
       "      <th>participation_%_sat</th>\n",
       "      <th>score_act</th>\n",
       "      <th>participation_%_act</th>\n",
       "      <th>avg_temp</th>\n",
       "    </tr>\n",
       "  </thead>\n",
       "  <tbody>\n",
       "    <tr>\n",
       "      <th>1</th>\n",
       "      <td>alaska</td>\n",
       "      <td>1106</td>\n",
       "      <td>43.0</td>\n",
       "      <td>20.8</td>\n",
       "      <td>33.0</td>\n",
       "      <td>28.894559</td>\n",
       "    </tr>\n",
       "    <tr>\n",
       "      <th>2</th>\n",
       "      <td>arizona</td>\n",
       "      <td>1149</td>\n",
       "      <td>29.0</td>\n",
       "      <td>19.2</td>\n",
       "      <td>66.0</td>\n",
       "      <td>27.610428</td>\n",
       "    </tr>\n",
       "    <tr>\n",
       "      <th>44</th>\n",
       "      <td>vermont</td>\n",
       "      <td>1120</td>\n",
       "      <td>64.0</td>\n",
       "      <td>24.1</td>\n",
       "      <td>24.0</td>\n",
       "      <td>27.381898</td>\n",
       "    </tr>\n",
       "    <tr>\n",
       "      <th>16</th>\n",
       "      <td>kentucky</td>\n",
       "      <td>1248</td>\n",
       "      <td>4.0</td>\n",
       "      <td>20.2</td>\n",
       "      <td>100.0</td>\n",
       "      <td>26.900532</td>\n",
       "    </tr>\n",
       "    <tr>\n",
       "      <th>24</th>\n",
       "      <td>missouri</td>\n",
       "      <td>1262</td>\n",
       "      <td>4.0</td>\n",
       "      <td>20.0</td>\n",
       "      <td>100.0</td>\n",
       "      <td>25.339226</td>\n",
       "    </tr>\n",
       "    <tr>\n",
       "      <th>43</th>\n",
       "      <td>utah</td>\n",
       "      <td>1010</td>\n",
       "      <td>4.0</td>\n",
       "      <td>20.4</td>\n",
       "      <td>100.0</td>\n",
       "      <td>9.026965</td>\n",
       "    </tr>\n",
       "    <tr>\n",
       "      <th>22</th>\n",
       "      <td>minnesota</td>\n",
       "      <td>1298</td>\n",
       "      <td>4.0</td>\n",
       "      <td>21.3</td>\n",
       "      <td>99.0</td>\n",
       "      <td>10.711538</td>\n",
       "    </tr>\n",
       "    <tr>\n",
       "      <th>40</th>\n",
       "      <td>south_dakota</td>\n",
       "      <td>1240</td>\n",
       "      <td>3.0</td>\n",
       "      <td>21.9</td>\n",
       "      <td>77.0</td>\n",
       "      <td>10.737697</td>\n",
       "    </tr>\n",
       "    <tr>\n",
       "      <th>48</th>\n",
       "      <td>wisconsin</td>\n",
       "      <td>1294</td>\n",
       "      <td>3.0</td>\n",
       "      <td>20.5</td>\n",
       "      <td>100.0</td>\n",
       "      <td>10.844362</td>\n",
       "    </tr>\n",
       "    <tr>\n",
       "      <th>21</th>\n",
       "      <td>michigan</td>\n",
       "      <td>1011</td>\n",
       "      <td>100.0</td>\n",
       "      <td>24.2</td>\n",
       "      <td>22.0</td>\n",
       "      <td>12.211568</td>\n",
       "    </tr>\n",
       "  </tbody>\n",
       "</table>\n",
       "</div>"
      ],
      "text/plain": [
       "           state  score_sat  participation_%_sat  score_act  \\\n",
       "1         alaska       1106                 43.0       20.8   \n",
       "2        arizona       1149                 29.0       19.2   \n",
       "44       vermont       1120                 64.0       24.1   \n",
       "16      kentucky       1248                  4.0       20.2   \n",
       "24      missouri       1262                  4.0       20.0   \n",
       "43          utah       1010                  4.0       20.4   \n",
       "22     minnesota       1298                  4.0       21.3   \n",
       "40  south_dakota       1240                  3.0       21.9   \n",
       "48     wisconsin       1294                  3.0       20.5   \n",
       "21      michigan       1011                100.0       24.2   \n",
       "\n",
       "    participation_%_act   avg_temp  \n",
       "1                  33.0  28.894559  \n",
       "2                  66.0  27.610428  \n",
       "44                 24.0  27.381898  \n",
       "16                100.0  26.900532  \n",
       "24                100.0  25.339226  \n",
       "43                100.0   9.026965  \n",
       "22                 99.0  10.711538  \n",
       "40                 77.0  10.737697  \n",
       "48                100.0  10.844362  \n",
       "21                 22.0  12.211568  "
      ]
     },
     "execution_count": 44,
     "metadata": {},
     "output_type": "execute_result"
    }
   ],
   "source": [
    "new_set"
   ]
  },
  {
   "cell_type": "code",
   "execution_count": 45,
   "id": "91348f93-7ecc-469d-ae80-61f9c49e0433",
   "metadata": {},
   "outputs": [
    {
     "data": {
      "text/plain": [
       "(10, 6)"
      ]
     },
     "execution_count": 45,
     "metadata": {},
     "output_type": "execute_result"
    }
   ],
   "source": [
    "new_set.shape"
   ]
  },
  {
   "cell_type": "markdown",
   "id": "bdd47240-7a82-4f87-9e99-2d52080afb82",
   "metadata": {},
   "source": [
    "#### Now we study the correlation again"
   ]
  },
  {
   "cell_type": "code",
   "execution_count": 46,
   "id": "a57ffa2a-2488-43bf-b4de-d07b57ae8a37",
   "metadata": {},
   "outputs": [
    {
     "data": {
      "text/html": [
       "<div>\n",
       "<style scoped>\n",
       "    .dataframe tbody tr th:only-of-type {\n",
       "        vertical-align: middle;\n",
       "    }\n",
       "\n",
       "    .dataframe tbody tr th {\n",
       "        vertical-align: top;\n",
       "    }\n",
       "\n",
       "    .dataframe thead th {\n",
       "        text-align: right;\n",
       "    }\n",
       "</style>\n",
       "<table border=\"1\" class=\"dataframe\">\n",
       "  <thead>\n",
       "    <tr style=\"text-align: right;\">\n",
       "      <th></th>\n",
       "      <th>score_sat</th>\n",
       "      <th>participation_%_sat</th>\n",
       "      <th>score_act</th>\n",
       "      <th>participation_%_act</th>\n",
       "      <th>avg_temp</th>\n",
       "    </tr>\n",
       "  </thead>\n",
       "  <tbody>\n",
       "    <tr>\n",
       "      <th>score_sat</th>\n",
       "      <td>1.000000</td>\n",
       "      <td>-0.668691</td>\n",
       "      <td>-0.384378</td>\n",
       "      <td>0.614117</td>\n",
       "      <td>-0.000915</td>\n",
       "    </tr>\n",
       "    <tr>\n",
       "      <th>participation_%_sat</th>\n",
       "      <td>-0.668691</td>\n",
       "      <td>1.000000</td>\n",
       "      <td>0.749654</td>\n",
       "      <td>-0.919322</td>\n",
       "      <td>0.178903</td>\n",
       "    </tr>\n",
       "    <tr>\n",
       "      <th>score_act</th>\n",
       "      <td>-0.384378</td>\n",
       "      <td>0.749654</td>\n",
       "      <td>1.000000</td>\n",
       "      <td>-0.700861</td>\n",
       "      <td>-0.192424</td>\n",
       "    </tr>\n",
       "    <tr>\n",
       "      <th>participation_%_act</th>\n",
       "      <td>0.614117</td>\n",
       "      <td>-0.919322</td>\n",
       "      <td>-0.700861</td>\n",
       "      <td>1.000000</td>\n",
       "      <td>-0.327857</td>\n",
       "    </tr>\n",
       "    <tr>\n",
       "      <th>avg_temp</th>\n",
       "      <td>-0.000915</td>\n",
       "      <td>0.178903</td>\n",
       "      <td>-0.192424</td>\n",
       "      <td>-0.327857</td>\n",
       "      <td>1.000000</td>\n",
       "    </tr>\n",
       "  </tbody>\n",
       "</table>\n",
       "</div>"
      ],
      "text/plain": [
       "                     score_sat  participation_%_sat  score_act  \\\n",
       "score_sat             1.000000            -0.668691  -0.384378   \n",
       "participation_%_sat  -0.668691             1.000000   0.749654   \n",
       "score_act            -0.384378             0.749654   1.000000   \n",
       "participation_%_act   0.614117            -0.919322  -0.700861   \n",
       "avg_temp             -0.000915             0.178903  -0.192424   \n",
       "\n",
       "                     participation_%_act  avg_temp  \n",
       "score_sat                       0.614117 -0.000915  \n",
       "participation_%_sat            -0.919322  0.178903  \n",
       "score_act                      -0.700861 -0.192424  \n",
       "participation_%_act             1.000000 -0.327857  \n",
       "avg_temp                       -0.327857  1.000000  "
      ]
     },
     "execution_count": 46,
     "metadata": {},
     "output_type": "execute_result"
    }
   ],
   "source": [
    "new_set.corr()"
   ]
  },
  {
   "cell_type": "code",
   "execution_count": 47,
   "id": "c4b0a0a6-07ef-449a-a419-887ffffda8ae",
   "metadata": {},
   "outputs": [
    {
     "data": {
      "image/png": "[encoded data removed]",
      "text/plain": [
       "<Figure size 720x720 with 2 Axes>"
      ]
     },
     "metadata": {
      "needs_background": "light"
     },
     "output_type": "display_data"
    }
   ],
   "source": [
    "plt.figure(figsize = (10,10))\n",
    "sns.heatmap(new_set.corr(),\n",
    "            cmap = 'winter',\n",
    "            annot = True,\n",
    "           vmin = -1,\n",
    "           vmax = 1)\n",
    "plt.yticks(rotation='horizontal')  #This code was taken from: https://stackoverflow.com/questions/11244514/modify-tick-label-text\n",
    "plt.title(label = 'Correlation heatmap', fontdict = {'size': 30}, loc = 'center');"
   ]
  },
  {
   "cell_type": "markdown",
   "id": "a675eead-e758-43fe-94bc-8a775062ae5d",
   "metadata": {},
   "source": [
    "#### As shown, this step of narrowing down only the most warm and cold states hasn't given any new or significantly different insight."
   ]
  },
  {
   "cell_type": "code",
   "execution_count": null,
   "id": "c7b3c768-45fa-4804-a972-dcdff39847b2",
   "metadata": {},
   "outputs": [],
   "source": []
  }
 ],
 "metadata": {
  "kernelspec": {
   "display_name": "Python 3",
   "language": "python",
   "name": "python3"
  },
  "language_info": {
   "codemirror_mode": {
    "name": "ipython",
    "version": 3
   },
   "file_extension": ".py",
   "mimetype": "text/x-python",
   "name": "python",
   "nbconvert_exporter": "python",
   "pygments_lexer": "ipython3",
   "version": "3.8.8"
  }
 },
 "nbformat": 4,
 "nbformat_minor": 5
}
