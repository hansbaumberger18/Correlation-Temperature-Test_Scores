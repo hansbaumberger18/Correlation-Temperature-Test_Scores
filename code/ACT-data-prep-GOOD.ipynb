{
 "cells": [
  {
   "cell_type": "markdown",
   "id": "ff65ca20-669a-4de3-b4b3-ee9a3b5d64a0",
   "metadata": {},
   "source": [
    "# ACT data: import and cleaning"
   ]
  },
  {
   "cell_type": "markdown",
   "id": "de4ad478-5a57-4236-95a7-3fa1ecddf9c4",
   "metadata": {},
   "source": [
    "#### In this particular notebook the ACT dataset \"act_2018.csv\" is imported and cleaned for the porject's purpose."
   ]
  },
  {
   "cell_type": "code",
   "execution_count": 54,
   "id": "df2d18ab-669d-49a8-b701-d35ce08a9346",
   "metadata": {},
   "outputs": [],
   "source": [
    "import pandas as pd"
   ]
  },
  {
   "cell_type": "code",
   "execution_count": 55,
   "id": "f33dfa3a-b5d4-450d-99cd-31a7051510f2",
   "metadata": {},
   "outputs": [],
   "source": [
    "act = pd.read_csv('../data/act_2018.csv')"
   ]
  },
  {
   "cell_type": "code",
   "execution_count": 56,
   "id": "31739b99-f4c8-4700-977f-d1dca6605eef",
   "metadata": {},
   "outputs": [
    {
     "data": {
      "text/plain": [
       "pandas.core.frame.DataFrame"
      ]
     },
     "execution_count": 56,
     "metadata": {},
     "output_type": "execute_result"
    }
   ],
   "source": [
    "type(act)"
   ]
  },
  {
   "cell_type": "code",
   "execution_count": 57,
   "id": "c6baef63-50db-4527-83ce-3875b8568c2d",
   "metadata": {},
   "outputs": [
    {
     "data": {
      "text/html": [
       "<div>\n",
       "<style scoped>\n",
       "    .dataframe tbody tr th:only-of-type {\n",
       "        vertical-align: middle;\n",
       "    }\n",
       "\n",
       "    .dataframe tbody tr th {\n",
       "        vertical-align: top;\n",
       "    }\n",
       "\n",
       "    .dataframe thead th {\n",
       "        text-align: right;\n",
       "    }\n",
       "</style>\n",
       "<table border=\"1\" class=\"dataframe\">\n",
       "  <thead>\n",
       "    <tr style=\"text-align: right;\">\n",
       "      <th></th>\n",
       "      <th>State</th>\n",
       "      <th>Participation</th>\n",
       "      <th>Composite</th>\n",
       "    </tr>\n",
       "  </thead>\n",
       "  <tbody>\n",
       "    <tr>\n",
       "      <th>0</th>\n",
       "      <td>Alabama</td>\n",
       "      <td>100%</td>\n",
       "      <td>19.1</td>\n",
       "    </tr>\n",
       "    <tr>\n",
       "      <th>1</th>\n",
       "      <td>Alaska</td>\n",
       "      <td>33%</td>\n",
       "      <td>20.8</td>\n",
       "    </tr>\n",
       "    <tr>\n",
       "      <th>2</th>\n",
       "      <td>Arizona</td>\n",
       "      <td>66%</td>\n",
       "      <td>19.2</td>\n",
       "    </tr>\n",
       "    <tr>\n",
       "      <th>3</th>\n",
       "      <td>Arkansas</td>\n",
       "      <td>100%</td>\n",
       "      <td>19.4</td>\n",
       "    </tr>\n",
       "    <tr>\n",
       "      <th>4</th>\n",
       "      <td>California</td>\n",
       "      <td>27%</td>\n",
       "      <td>22.7</td>\n",
       "    </tr>\n",
       "  </tbody>\n",
       "</table>\n",
       "</div>"
      ],
      "text/plain": [
       "        State Participation  Composite\n",
       "0     Alabama          100%       19.1\n",
       "1      Alaska           33%       20.8\n",
       "2     Arizona           66%       19.2\n",
       "3    Arkansas          100%       19.4\n",
       "4  California           27%       22.7"
      ]
     },
     "execution_count": 57,
     "metadata": {},
     "output_type": "execute_result"
    }
   ],
   "source": [
    "act.head()"
   ]
  },
  {
   "cell_type": "code",
   "execution_count": 58,
   "id": "b2b7f40c-f55f-4494-8069-68760dcedc76",
   "metadata": {},
   "outputs": [
    {
     "data": {
      "text/plain": [
       "(52, 3)"
      ]
     },
     "execution_count": 58,
     "metadata": {},
     "output_type": "execute_result"
    }
   ],
   "source": [
    "act.shape"
   ]
  },
  {
   "cell_type": "code",
   "execution_count": 59,
   "id": "8fbb289e-863a-4028-91a9-6baae963d78c",
   "metadata": {},
   "outputs": [
    {
     "data": {
      "text/plain": [
       "Index(['State', 'Participation', 'Composite'], dtype='object')"
      ]
     },
     "execution_count": 59,
     "metadata": {},
     "output_type": "execute_result"
    }
   ],
   "source": [
    "act.columns"
   ]
  },
  {
   "cell_type": "code",
   "execution_count": 60,
   "id": "2e787af3-e811-4861-9590-01f843d66447",
   "metadata": {},
   "outputs": [
    {
     "name": "stdout",
     "output_type": "stream",
     "text": [
      "<class 'pandas.core.frame.DataFrame'>\n",
      "RangeIndex: 52 entries, 0 to 51\n",
      "Data columns (total 3 columns):\n",
      " #   Column         Non-Null Count  Dtype  \n",
      "---  ------         --------------  -----  \n",
      " 0   State          52 non-null     object \n",
      " 1   Participation  52 non-null     object \n",
      " 2   Composite      52 non-null     float64\n",
      "dtypes: float64(1), object(2)\n",
      "memory usage: 1.3+ KB\n"
     ]
    }
   ],
   "source": [
    "act.info()  #Dsiplay Dtypes to see if something must be modified"
   ]
  },
  {
   "cell_type": "code",
   "execution_count": 61,
   "id": "8a534102-1ad8-4b0f-9089-f910e3cd77ff",
   "metadata": {},
   "outputs": [
    {
     "data": {
      "text/plain": [
       "State            0\n",
       "Participation    0\n",
       "Composite        0\n",
       "dtype: int64"
      ]
     },
     "execution_count": 61,
     "metadata": {},
     "output_type": "execute_result"
    }
   ],
   "source": [
    "act.isnull().sum() # Checking for missing values"
   ]
  },
  {
   "cell_type": "code",
   "execution_count": 62,
   "id": "d4770b8c-7949-43d7-b8a9-56cd9f1c88b6",
   "metadata": {},
   "outputs": [],
   "source": [
    "# function to check if there is any obvious issue with the \"Composite\" column. ACT score ranges from 1 to 36.\n",
    "def any_issues_data(data):\n",
    "    issues = []\n",
    "    for score in data:\n",
    "        if score < 1 or score > 36:\n",
    "            issues.append(score)\n",
    "    return issues"
   ]
  },
  {
   "cell_type": "code",
   "execution_count": 63,
   "id": "717c9f9c-32c1-4276-940f-98d71904767e",
   "metadata": {},
   "outputs": [
    {
     "data": {
      "text/plain": [
       "[]"
      ]
     },
     "execution_count": 63,
     "metadata": {},
     "output_type": "execute_result"
    }
   ],
   "source": [
    "any_issues_data(act['Composite']) #Running the function with the \"Composite\" column data."
   ]
  },
  {
   "cell_type": "markdown",
   "id": "52288d1e-f899-45e0-bc0c-57a7f7dfe545",
   "metadata": {},
   "source": [
    "#### We can observe (via the empty list returned by the \"any_issues_data\" function) there are zero obviuos issues with the data we want to work with. "
   ]
  },
  {
   "cell_type": "code",
   "execution_count": 64,
   "id": "3dcbf666-ca32-4638-bc74-4b2eeea9b622",
   "metadata": {},
   "outputs": [],
   "source": [
    "act.columns = [col.replace(' ', '_').lower() for col in act.columns] #Editing the column names"
   ]
  },
  {
   "cell_type": "code",
   "execution_count": 65,
   "id": "887cc535-969a-4dde-a638-cf71971527a4",
   "metadata": {},
   "outputs": [
    {
     "data": {
      "text/plain": [
       "Index(['state', 'participation', 'composite'], dtype='object')"
      ]
     },
     "execution_count": 65,
     "metadata": {},
     "output_type": "execute_result"
    }
   ],
   "source": [
    "act.columns"
   ]
  },
  {
   "cell_type": "code",
   "execution_count": 66,
   "id": "00438e68-7224-4938-8e9c-ca486212d773",
   "metadata": {},
   "outputs": [],
   "source": [
    "act['participation_%'] = act['participation'].str.strip('%').astype('float') #Create new column where participation rates are floats not strings"
   ]
  },
  {
   "cell_type": "code",
   "execution_count": 67,
   "id": "20c43110-6e24-4c7d-8ec4-2d8b211f92ee",
   "metadata": {},
   "outputs": [
    {
     "data": {
      "text/html": [
       "<div>\n",
       "<style scoped>\n",
       "    .dataframe tbody tr th:only-of-type {\n",
       "        vertical-align: middle;\n",
       "    }\n",
       "\n",
       "    .dataframe tbody tr th {\n",
       "        vertical-align: top;\n",
       "    }\n",
       "\n",
       "    .dataframe thead th {\n",
       "        text-align: right;\n",
       "    }\n",
       "</style>\n",
       "<table border=\"1\" class=\"dataframe\">\n",
       "  <thead>\n",
       "    <tr style=\"text-align: right;\">\n",
       "      <th></th>\n",
       "      <th>state</th>\n",
       "      <th>participation</th>\n",
       "      <th>composite</th>\n",
       "      <th>participation_%</th>\n",
       "    </tr>\n",
       "  </thead>\n",
       "  <tbody>\n",
       "    <tr>\n",
       "      <th>0</th>\n",
       "      <td>Alabama</td>\n",
       "      <td>100%</td>\n",
       "      <td>19.1</td>\n",
       "      <td>100.0</td>\n",
       "    </tr>\n",
       "    <tr>\n",
       "      <th>1</th>\n",
       "      <td>Alaska</td>\n",
       "      <td>33%</td>\n",
       "      <td>20.8</td>\n",
       "      <td>33.0</td>\n",
       "    </tr>\n",
       "    <tr>\n",
       "      <th>2</th>\n",
       "      <td>Arizona</td>\n",
       "      <td>66%</td>\n",
       "      <td>19.2</td>\n",
       "      <td>66.0</td>\n",
       "    </tr>\n",
       "    <tr>\n",
       "      <th>3</th>\n",
       "      <td>Arkansas</td>\n",
       "      <td>100%</td>\n",
       "      <td>19.4</td>\n",
       "      <td>100.0</td>\n",
       "    </tr>\n",
       "    <tr>\n",
       "      <th>4</th>\n",
       "      <td>California</td>\n",
       "      <td>27%</td>\n",
       "      <td>22.7</td>\n",
       "      <td>27.0</td>\n",
       "    </tr>\n",
       "  </tbody>\n",
       "</table>\n",
       "</div>"
      ],
      "text/plain": [
       "        state participation  composite  participation_%\n",
       "0     Alabama          100%       19.1            100.0\n",
       "1      Alaska           33%       20.8             33.0\n",
       "2     Arizona           66%       19.2             66.0\n",
       "3    Arkansas          100%       19.4            100.0\n",
       "4  California           27%       22.7             27.0"
      ]
     },
     "execution_count": 67,
     "metadata": {},
     "output_type": "execute_result"
    }
   ],
   "source": [
    "act.head()"
   ]
  },
  {
   "cell_type": "code",
   "execution_count": 68,
   "id": "abebf116-e46f-46fc-badd-1360eda06049",
   "metadata": {},
   "outputs": [],
   "source": [
    "#Deleting not needed columns\n",
    "act.drop(columns=['participation'], inplace = True)"
   ]
  },
  {
   "cell_type": "code",
   "execution_count": 69,
   "id": "1d896b62-af84-4cca-8821-cd14e7ea41ad",
   "metadata": {},
   "outputs": [
    {
     "data": {
      "text/html": [
       "<div>\n",
       "<style scoped>\n",
       "    .dataframe tbody tr th:only-of-type {\n",
       "        vertical-align: middle;\n",
       "    }\n",
       "\n",
       "    .dataframe tbody tr th {\n",
       "        vertical-align: top;\n",
       "    }\n",
       "\n",
       "    .dataframe thead th {\n",
       "        text-align: right;\n",
       "    }\n",
       "</style>\n",
       "<table border=\"1\" class=\"dataframe\">\n",
       "  <thead>\n",
       "    <tr style=\"text-align: right;\">\n",
       "      <th></th>\n",
       "      <th>state</th>\n",
       "      <th>composite</th>\n",
       "      <th>participation_%</th>\n",
       "    </tr>\n",
       "  </thead>\n",
       "  <tbody>\n",
       "    <tr>\n",
       "      <th>0</th>\n",
       "      <td>Alabama</td>\n",
       "      <td>19.1</td>\n",
       "      <td>100.0</td>\n",
       "    </tr>\n",
       "    <tr>\n",
       "      <th>1</th>\n",
       "      <td>Alaska</td>\n",
       "      <td>20.8</td>\n",
       "      <td>33.0</td>\n",
       "    </tr>\n",
       "    <tr>\n",
       "      <th>2</th>\n",
       "      <td>Arizona</td>\n",
       "      <td>19.2</td>\n",
       "      <td>66.0</td>\n",
       "    </tr>\n",
       "    <tr>\n",
       "      <th>3</th>\n",
       "      <td>Arkansas</td>\n",
       "      <td>19.4</td>\n",
       "      <td>100.0</td>\n",
       "    </tr>\n",
       "    <tr>\n",
       "      <th>4</th>\n",
       "      <td>California</td>\n",
       "      <td>22.7</td>\n",
       "      <td>27.0</td>\n",
       "    </tr>\n",
       "  </tbody>\n",
       "</table>\n",
       "</div>"
      ],
      "text/plain": [
       "        state  composite  participation_%\n",
       "0     Alabama       19.1            100.0\n",
       "1      Alaska       20.8             33.0\n",
       "2     Arizona       19.2             66.0\n",
       "3    Arkansas       19.4            100.0\n",
       "4  California       22.7             27.0"
      ]
     },
     "execution_count": 69,
     "metadata": {},
     "output_type": "execute_result"
    }
   ],
   "source": [
    "act.head()"
   ]
  },
  {
   "cell_type": "markdown",
   "id": "e2b65773-37dd-43c6-b9aa-bc5c0c3ab526",
   "metadata": {},
   "source": [
    "#### Next, state names are changed so this dataset has the same column format as the climate dataset."
   ]
  },
  {
   "cell_type": "code",
   "execution_count": 70,
   "id": "46f54d09-fe6e-41e2-afe1-03f4c8c4886e",
   "metadata": {},
   "outputs": [],
   "source": [
    "act['state'] = [state.replace(' ', '_').lower() for state in act['state']] #Modifying to match the format in the climate dataset state column"
   ]
  },
  {
   "cell_type": "code",
   "execution_count": 71,
   "id": "db709215-6e0f-44f6-b995-e4d0edf95e0d",
   "metadata": {},
   "outputs": [
    {
     "data": {
      "text/html": [
       "<div>\n",
       "<style scoped>\n",
       "    .dataframe tbody tr th:only-of-type {\n",
       "        vertical-align: middle;\n",
       "    }\n",
       "\n",
       "    .dataframe tbody tr th {\n",
       "        vertical-align: top;\n",
       "    }\n",
       "\n",
       "    .dataframe thead th {\n",
       "        text-align: right;\n",
       "    }\n",
       "</style>\n",
       "<table border=\"1\" class=\"dataframe\">\n",
       "  <thead>\n",
       "    <tr style=\"text-align: right;\">\n",
       "      <th></th>\n",
       "      <th>state</th>\n",
       "      <th>composite</th>\n",
       "      <th>participation_%</th>\n",
       "    </tr>\n",
       "  </thead>\n",
       "  <tbody>\n",
       "    <tr>\n",
       "      <th>49</th>\n",
       "      <td>west_virginia</td>\n",
       "      <td>20.3</td>\n",
       "      <td>65.0</td>\n",
       "    </tr>\n",
       "    <tr>\n",
       "      <th>50</th>\n",
       "      <td>wisconsin</td>\n",
       "      <td>20.5</td>\n",
       "      <td>100.0</td>\n",
       "    </tr>\n",
       "    <tr>\n",
       "      <th>51</th>\n",
       "      <td>wyoming</td>\n",
       "      <td>20.0</td>\n",
       "      <td>100.0</td>\n",
       "    </tr>\n",
       "  </tbody>\n",
       "</table>\n",
       "</div>"
      ],
      "text/plain": [
       "            state  composite  participation_%\n",
       "49  west_virginia       20.3             65.0\n",
       "50      wisconsin       20.5            100.0\n",
       "51        wyoming       20.0            100.0"
      ]
     },
     "execution_count": 71,
     "metadata": {},
     "output_type": "execute_result"
    }
   ],
   "source": [
    "act.tail(3) #Just enough to check for every possible scenario (lowercased and spaces)"
   ]
  },
  {
   "cell_type": "code",
   "execution_count": 72,
   "id": "648addef-0f8d-474e-9d46-6151ae6efd18",
   "metadata": {},
   "outputs": [
    {
     "data": {
      "text/plain": [
       "(52, 3)"
      ]
     },
     "execution_count": 72,
     "metadata": {},
     "output_type": "execute_result"
    }
   ],
   "source": [
    "act.shape #Checking number of rows and columns to see if it matches with the number of rows and columns from SAT cleaned dataset"
   ]
  },
  {
   "cell_type": "code",
   "execution_count": 73,
   "id": "4ba19620-0781-4f51-9abd-62f87fe7ddec",
   "metadata": {},
   "outputs": [],
   "source": [
    "sat = pd.read_csv('../data/sat_clean.csv') #importing the SAT cleaned dataset"
   ]
  },
  {
   "cell_type": "code",
   "execution_count": 74,
   "id": "2a98c47d-7913-47de-b752-1a61d710f2ff",
   "metadata": {},
   "outputs": [
    {
     "data": {
      "text/html": [
       "<div>\n",
       "<style scoped>\n",
       "    .dataframe tbody tr th:only-of-type {\n",
       "        vertical-align: middle;\n",
       "    }\n",
       "\n",
       "    .dataframe tbody tr th {\n",
       "        vertical-align: top;\n",
       "    }\n",
       "\n",
       "    .dataframe thead th {\n",
       "        text-align: right;\n",
       "    }\n",
       "</style>\n",
       "<table border=\"1\" class=\"dataframe\">\n",
       "  <thead>\n",
       "    <tr style=\"text-align: right;\">\n",
       "      <th></th>\n",
       "      <th>Unnamed: 0</th>\n",
       "      <th>state</th>\n",
       "      <th>total</th>\n",
       "      <th>participation_%</th>\n",
       "    </tr>\n",
       "  </thead>\n",
       "  <tbody>\n",
       "    <tr>\n",
       "      <th>0</th>\n",
       "      <td>0</td>\n",
       "      <td>alabama</td>\n",
       "      <td>1166</td>\n",
       "      <td>6.0</td>\n",
       "    </tr>\n",
       "    <tr>\n",
       "      <th>1</th>\n",
       "      <td>1</td>\n",
       "      <td>alaska</td>\n",
       "      <td>1106</td>\n",
       "      <td>43.0</td>\n",
       "    </tr>\n",
       "    <tr>\n",
       "      <th>2</th>\n",
       "      <td>2</td>\n",
       "      <td>arizona</td>\n",
       "      <td>1149</td>\n",
       "      <td>29.0</td>\n",
       "    </tr>\n",
       "  </tbody>\n",
       "</table>\n",
       "</div>"
      ],
      "text/plain": [
       "   Unnamed: 0    state  total  participation_%\n",
       "0           0  alabama   1166              6.0\n",
       "1           1   alaska   1106             43.0\n",
       "2           2  arizona   1149             29.0"
      ]
     },
     "execution_count": 74,
     "metadata": {},
     "output_type": "execute_result"
    }
   ],
   "source": [
    "sat.head(3)"
   ]
  },
  {
   "cell_type": "code",
   "execution_count": 75,
   "id": "f16666c5-c223-4adc-b05d-bc06febff156",
   "metadata": {},
   "outputs": [
    {
     "data": {
      "text/plain": [
       "(51, 4)"
      ]
     },
     "execution_count": 75,
     "metadata": {},
     "output_type": "execute_result"
    }
   ],
   "source": [
    "sat.shape #Checking number of rows and columns"
   ]
  },
  {
   "cell_type": "markdown",
   "id": "6d8e841f-8aa5-4c2f-94cd-a82a7d0afe95",
   "metadata": {},
   "source": [
    "#### ACT dataset has one more row than the SAT dataset."
   ]
  },
  {
   "cell_type": "code",
   "execution_count": 76,
   "id": "dba93a78-79f4-4028-8b15-d60b733e03e9",
   "metadata": {},
   "outputs": [],
   "source": [
    "def state_double(data):\n",
    "    d = []\n",
    "    double = []   #List of repeated states in \"sate\" column of the ACT dataset\n",
    "    for state in data:\n",
    "        if state in d:\n",
    "            double.append(state)\n",
    "        else:\n",
    "            d.append(state)\n",
    "    return double            "
   ]
  },
  {
   "cell_type": "code",
   "execution_count": 77,
   "id": "8cd1151c-796e-41db-8ba5-c0e425572d87",
   "metadata": {},
   "outputs": [
    {
     "data": {
      "text/plain": [
       "['maine']"
      ]
     },
     "execution_count": 77,
     "metadata": {},
     "output_type": "execute_result"
    }
   ],
   "source": [
    "state_double(act['state'])"
   ]
  },
  {
   "cell_type": "markdown",
   "id": "98aef812-8e3c-4c5b-ad35-476b66906fce",
   "metadata": {},
   "source": [
    "#### Now we now that there is an extra row because 'maine' state is repeated. The next step will be to remove one of the rows."
   ]
  },
  {
   "cell_type": "code",
   "execution_count": 78,
   "id": "bab01b3d-16f6-4f65-b374-238e0ac5ea0e",
   "metadata": {},
   "outputs": [],
   "source": [
    "i = act[act.state == 'maine'].index #Looking for the row index"
   ]
  },
  {
   "cell_type": "code",
   "execution_count": 79,
   "id": "58540ed1-cfc1-40dc-8cdb-6117a7a97686",
   "metadata": {
    "tags": []
   },
   "outputs": [
    {
     "data": {
      "text/plain": [
       "Int64Index([19, 20], dtype='int64')"
      ]
     },
     "execution_count": 79,
     "metadata": {},
     "output_type": "execute_result"
    }
   ],
   "source": [
    "i"
   ]
  },
  {
   "cell_type": "code",
   "execution_count": 80,
   "id": "2a3da9ee-d53d-4aaa-b6cb-e10161d4e129",
   "metadata": {},
   "outputs": [],
   "source": [
    "act.drop(i[0], inplace = True) #Drop one of the rows"
   ]
  },
  {
   "cell_type": "code",
   "execution_count": 81,
   "id": "ae8235a7-e5ba-4967-ba29-dd77712b0bf9",
   "metadata": {},
   "outputs": [
    {
     "data": {
      "text/plain": [
       "(51, 3)"
      ]
     },
     "execution_count": 81,
     "metadata": {},
     "output_type": "execute_result"
    }
   ],
   "source": [
    "act.shape"
   ]
  },
  {
   "cell_type": "code",
   "execution_count": 82,
   "id": "e611fb69-7a4d-4bd3-9e0b-d7a7913defb8",
   "metadata": {},
   "outputs": [],
   "source": [
    "act.sort_values('state', inplace = True)"
   ]
  },
  {
   "cell_type": "code",
   "execution_count": 83,
   "id": "a8903fc2-9f02-44d5-ab40-6b18434576c1",
   "metadata": {
    "tags": []
   },
   "outputs": [],
   "source": [
    "act.to_csv('../data/act.csv') #Saving as csv file"
   ]
  },
  {
   "cell_type": "code",
   "execution_count": null,
   "id": "1591a538-26e2-40dd-a762-00e35f283028",
   "metadata": {},
   "outputs": [],
   "source": []
  }
 ],
 "metadata": {
  "kernelspec": {
   "display_name": "Python 3",
   "language": "python",
   "name": "python3"
  },
  "language_info": {
   "codemirror_mode": {
    "name": "ipython",
    "version": 3
   },
   "file_extension": ".py",
   "mimetype": "text/x-python",
   "name": "python",
   "nbconvert_exporter": "python",
   "pygments_lexer": "ipython3",
   "version": "3.8.8"
  }
 },
 "nbformat": 4,
 "nbformat_minor": 5
}
