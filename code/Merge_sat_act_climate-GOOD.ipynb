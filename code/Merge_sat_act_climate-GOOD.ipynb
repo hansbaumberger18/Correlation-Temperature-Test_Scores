{
 "cells": [
  {
   "cell_type": "markdown",
   "id": "1ebe4105-1cfd-4d3c-9868-c13c26041bfb",
   "metadata": {},
   "source": [
    "# Merge data into one single dataset"
   ]
  },
  {
   "cell_type": "markdown",
   "id": "9087b0bb-36c8-4bdf-ae75-24b4a3e472b8",
   "metadata": {},
   "source": [
    "#### In this particular notebook all the data from all three datasets will be merged together into a single dataset"
   ]
  },
  {
   "cell_type": "code",
   "execution_count": 1,
   "id": "803fd2e2-a089-458a-bb51-69a8fdada088",
   "metadata": {},
   "outputs": [],
   "source": [
    "import pandas as pd"
   ]
  },
  {
   "cell_type": "code",
   "execution_count": 2,
   "id": "53dee973-33e8-4820-8b86-b6597569468e",
   "metadata": {},
   "outputs": [],
   "source": [
    "sat = pd.read_csv('../data/sat_GOOD.csv')"
   ]
  },
  {
   "cell_type": "code",
   "execution_count": 3,
   "id": "12cc8dda-7159-424a-88df-5601b406da29",
   "metadata": {},
   "outputs": [],
   "source": [
    "act = pd.read_csv('../data/act_GOOD.csv')"
   ]
  },
  {
   "cell_type": "code",
   "execution_count": 4,
   "id": "0f8b5924-7904-4e21-a60d-c6a6589a7610",
   "metadata": {},
   "outputs": [],
   "source": [
    "climate = pd.read_csv('../data/climate.csv')"
   ]
  },
  {
   "cell_type": "code",
   "execution_count": 5,
   "id": "0c84f757-0380-4027-b9f1-2c994e59d5bd",
   "metadata": {},
   "outputs": [
    {
     "data": {
      "text/plain": [
       "(50, 5)"
      ]
     },
     "execution_count": 5,
     "metadata": {},
     "output_type": "execute_result"
    }
   ],
   "source": [
    "sat.shape"
   ]
  },
  {
   "cell_type": "code",
   "execution_count": 6,
   "id": "7fa75cf5-c4a6-400b-8f4d-6c243cc4519f",
   "metadata": {},
   "outputs": [
    {
     "data": {
      "text/plain": [
       "(50, 5)"
      ]
     },
     "execution_count": 6,
     "metadata": {},
     "output_type": "execute_result"
    }
   ],
   "source": [
    "act.shape"
   ]
  },
  {
   "cell_type": "code",
   "execution_count": 7,
   "id": "ddcef26c-bd02-41dc-8e84-7b63e44045cd",
   "metadata": {},
   "outputs": [
    {
     "data": {
      "text/plain": [
       "(50, 3)"
      ]
     },
     "execution_count": 7,
     "metadata": {},
     "output_type": "execute_result"
    }
   ],
   "source": [
    "climate.shape"
   ]
  },
  {
   "cell_type": "code",
   "execution_count": 8,
   "id": "88161d09-b84d-4802-be23-d56eefc3c843",
   "metadata": {},
   "outputs": [
    {
     "data": {
      "text/plain": [
       "Index(['Unnamed: 0', 'Unnamed: 0.1', 'state', 'total', 'participation_%'], dtype='object')"
      ]
     },
     "execution_count": 8,
     "metadata": {},
     "output_type": "execute_result"
    }
   ],
   "source": [
    "sat.columns"
   ]
  },
  {
   "cell_type": "code",
   "execution_count": 9,
   "id": "dbcae4e0-ca82-415a-9e3d-d640dd98f1bc",
   "metadata": {},
   "outputs": [
    {
     "data": {
      "text/plain": [
       "Index(['Unnamed: 0', 'Unnamed: 0.1', 'state', 'composite', 'participation_%'], dtype='object')"
      ]
     },
     "execution_count": 9,
     "metadata": {},
     "output_type": "execute_result"
    }
   ],
   "source": [
    "act.columns"
   ]
  },
  {
   "cell_type": "code",
   "execution_count": 10,
   "id": "0923075b-5073-4eca-b497-8994dadb4617",
   "metadata": {},
   "outputs": [
    {
     "data": {
      "text/plain": [
       "Index(['Unnamed: 0', 'state', 'avg_temp'], dtype='object')"
      ]
     },
     "execution_count": 10,
     "metadata": {},
     "output_type": "execute_result"
    }
   ],
   "source": [
    "climate.columns"
   ]
  },
  {
   "cell_type": "markdown",
   "id": "ebd20fba-2825-4715-93d9-73d012a2c507",
   "metadata": {},
   "source": [
    "#### Now we delete the unwanted columns"
   ]
  },
  {
   "cell_type": "code",
   "execution_count": 11,
   "id": "46c5ab12-ad59-49c5-85b1-6e934c2f33a3",
   "metadata": {},
   "outputs": [],
   "source": [
    "sat.drop(columns=['Unnamed: 0', 'Unnamed: 0.1'], inplace = True)"
   ]
  },
  {
   "cell_type": "code",
   "execution_count": 12,
   "id": "68056443-c8a1-4190-ae44-786221fe35a0",
   "metadata": {},
   "outputs": [],
   "source": [
    "act.drop(columns=['Unnamed: 0', 'Unnamed: 0.1'], inplace = True)"
   ]
  },
  {
   "cell_type": "code",
   "execution_count": 13,
   "id": "994a787d-ddd0-418e-a1a9-63f2efabd0b8",
   "metadata": {},
   "outputs": [],
   "source": [
    "climate.drop(columns=['Unnamed: 0'], inplace = True)"
   ]
  },
  {
   "cell_type": "code",
   "execution_count": 14,
   "id": "64bffac8-e763-49c5-801d-b1f162ab9059",
   "metadata": {},
   "outputs": [
    {
     "data": {
      "text/plain": [
       "Index(['state', 'total', 'participation_%'], dtype='object')"
      ]
     },
     "execution_count": 14,
     "metadata": {},
     "output_type": "execute_result"
    }
   ],
   "source": [
    "sat.columns"
   ]
  },
  {
   "cell_type": "code",
   "execution_count": 15,
   "id": "dcec60fa-7a1c-43c5-af56-447eda1b05dc",
   "metadata": {},
   "outputs": [
    {
     "data": {
      "text/plain": [
       "Index(['state', 'composite', 'participation_%'], dtype='object')"
      ]
     },
     "execution_count": 15,
     "metadata": {},
     "output_type": "execute_result"
    }
   ],
   "source": [
    "act.columns"
   ]
  },
  {
   "cell_type": "code",
   "execution_count": 16,
   "id": "e102c85d-933a-49fc-95bd-53965c4550b3",
   "metadata": {},
   "outputs": [
    {
     "data": {
      "text/plain": [
       "Index(['state', 'avg_temp'], dtype='object')"
      ]
     },
     "execution_count": 16,
     "metadata": {},
     "output_type": "execute_result"
    }
   ],
   "source": [
    "climate.columns"
   ]
  },
  {
   "cell_type": "markdown",
   "id": "9b67c7f2-0200-4a65-99de-d6e024c884d5",
   "metadata": {},
   "source": [
    "#### Next, a new dataset with all the information we want to study will be created"
   ]
  },
  {
   "cell_type": "code",
   "execution_count": 17,
   "id": "51a73df6-85a9-4664-be88-2168b64034ae",
   "metadata": {},
   "outputs": [],
   "source": [
    "sat['score_act'] = act['composite']"
   ]
  },
  {
   "cell_type": "code",
   "execution_count": 18,
   "id": "ddebf3b7-be1e-40cf-a5ec-01d71c71431e",
   "metadata": {},
   "outputs": [],
   "source": [
    "sat['participation_%_act'] = act['participation_%']"
   ]
  },
  {
   "cell_type": "code",
   "execution_count": 20,
   "id": "ffc14011-38db-4c61-8ab9-6cdb6edfd4b6",
   "metadata": {},
   "outputs": [],
   "source": [
    "# Renaming column names\n",
    "sat.rename(columns = {\n",
    "    'total': 'score_sat',\n",
    "    'participation_%': 'participation_%_sat'\n",
    "}, inplace = True)"
   ]
  },
  {
   "cell_type": "code",
   "execution_count": 22,
   "id": "5aa7b54e-3884-4b92-8018-739688eb8de0",
   "metadata": {},
   "outputs": [],
   "source": [
    "sat['avg_temp'] = climate['avg_temp']"
   ]
  },
  {
   "cell_type": "code",
   "execution_count": 24,
   "id": "17b1d6c9-4b20-45dd-ab1f-867a3f3fbbc7",
   "metadata": {},
   "outputs": [
    {
     "data": {
      "text/html": [
       "<div>\n",
       "<style scoped>\n",
       "    .dataframe tbody tr th:only-of-type {\n",
       "        vertical-align: middle;\n",
       "    }\n",
       "\n",
       "    .dataframe tbody tr th {\n",
       "        vertical-align: top;\n",
       "    }\n",
       "\n",
       "    .dataframe thead th {\n",
       "        text-align: right;\n",
       "    }\n",
       "</style>\n",
       "<table border=\"1\" class=\"dataframe\">\n",
       "  <thead>\n",
       "    <tr style=\"text-align: right;\">\n",
       "      <th></th>\n",
       "      <th>state</th>\n",
       "      <th>score_sat</th>\n",
       "      <th>participation_%_sat</th>\n",
       "      <th>score_act</th>\n",
       "      <th>participation_%_act</th>\n",
       "      <th>avg_temp</th>\n",
       "    </tr>\n",
       "  </thead>\n",
       "  <tbody>\n",
       "    <tr>\n",
       "      <th>0</th>\n",
       "      <td>alabama</td>\n",
       "      <td>1166</td>\n",
       "      <td>6.0</td>\n",
       "      <td>19.1</td>\n",
       "      <td>100.0</td>\n",
       "      <td>24.365982</td>\n",
       "    </tr>\n",
       "    <tr>\n",
       "      <th>1</th>\n",
       "      <td>alaska</td>\n",
       "      <td>1106</td>\n",
       "      <td>43.0</td>\n",
       "      <td>20.8</td>\n",
       "      <td>33.0</td>\n",
       "      <td>28.894559</td>\n",
       "    </tr>\n",
       "    <tr>\n",
       "      <th>2</th>\n",
       "      <td>arizona</td>\n",
       "      <td>1149</td>\n",
       "      <td>29.0</td>\n",
       "      <td>19.2</td>\n",
       "      <td>66.0</td>\n",
       "      <td>27.610428</td>\n",
       "    </tr>\n",
       "    <tr>\n",
       "      <th>3</th>\n",
       "      <td>arkansas</td>\n",
       "      <td>1169</td>\n",
       "      <td>5.0</td>\n",
       "      <td>19.4</td>\n",
       "      <td>100.0</td>\n",
       "      <td>20.094840</td>\n",
       "    </tr>\n",
       "    <tr>\n",
       "      <th>4</th>\n",
       "      <td>california</td>\n",
       "      <td>1076</td>\n",
       "      <td>60.0</td>\n",
       "      <td>22.7</td>\n",
       "      <td>27.0</td>\n",
       "      <td>23.969720</td>\n",
       "    </tr>\n",
       "  </tbody>\n",
       "</table>\n",
       "</div>"
      ],
      "text/plain": [
       "        state  score_sat  participation_%_sat  score_act  participation_%_act  \\\n",
       "0     alabama       1166                  6.0       19.1                100.0   \n",
       "1      alaska       1106                 43.0       20.8                 33.0   \n",
       "2     arizona       1149                 29.0       19.2                 66.0   \n",
       "3    arkansas       1169                  5.0       19.4                100.0   \n",
       "4  california       1076                 60.0       22.7                 27.0   \n",
       "\n",
       "    avg_temp  \n",
       "0  24.365982  \n",
       "1  28.894559  \n",
       "2  27.610428  \n",
       "3  20.094840  \n",
       "4  23.969720  "
      ]
     },
     "execution_count": 24,
     "metadata": {},
     "output_type": "execute_result"
    }
   ],
   "source": [
    "sat.head()"
   ]
  },
  {
   "cell_type": "code",
   "execution_count": 25,
   "id": "7b178f88-e694-4a0d-91b1-6aa8c1cc3b96",
   "metadata": {},
   "outputs": [
    {
     "data": {
      "text/plain": [
       "(50, 6)"
      ]
     },
     "execution_count": 25,
     "metadata": {},
     "output_type": "execute_result"
    }
   ],
   "source": [
    "sat.shape"
   ]
  },
  {
   "cell_type": "code",
   "execution_count": 26,
   "id": "2e1c5cb3-9efb-4302-9f7e-4fa09ebac6eb",
   "metadata": {},
   "outputs": [],
   "source": [
    "sat.to_csv('../data/all_in_one.csv')"
   ]
  },
  {
   "cell_type": "code",
   "execution_count": null,
   "id": "942ba47e-5178-4daf-bce0-545eb4e4f43a",
   "metadata": {},
   "outputs": [],
   "source": []
  }
 ],
 "metadata": {
  "kernelspec": {
   "display_name": "Python 3",
   "language": "python",
   "name": "python3"
  },
  "language_info": {
   "codemirror_mode": {
    "name": "ipython",
    "version": 3
   },
   "file_extension": ".py",
   "mimetype": "text/x-python",
   "name": "python",
   "nbconvert_exporter": "python",
   "pygments_lexer": "ipython3",
   "version": "3.8.8"
  }
 },
 "nbformat": 4,
 "nbformat_minor": 5
}
