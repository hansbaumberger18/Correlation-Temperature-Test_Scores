{
 "cells": [
  {
   "cell_type": "markdown",
   "id": "b656879c-6384-474d-8bda-05c7695f58db",
   "metadata": {},
   "source": [
    "# SAT data: import and cleaning"
   ]
  },
  {
   "cell_type": "markdown",
   "id": "ac2ff89a-fbf9-42c5-b6b5-8476ad9c117b",
   "metadata": {
    "tags": []
   },
   "source": [
    "#### In this particular notebook the SAT dataset \"sat_2018.csv\" is imported and cleaned for the porject's purpose."
   ]
  },
  {
   "cell_type": "code",
   "execution_count": 55,
   "id": "8f67dbc7-ad3c-43b3-9f70-dd5d5fd47eef",
   "metadata": {},
   "outputs": [],
   "source": [
    "import pandas as pd "
   ]
  },
  {
   "cell_type": "code",
   "execution_count": 56,
   "id": "f4299867-8af8-432e-b703-8e56ac52f536",
   "metadata": {
    "tags": []
   },
   "outputs": [],
   "source": [
    "sat = pd.read_csv('../data/sat_2018.csv') #importing the dataset"
   ]
  },
  {
   "cell_type": "code",
   "execution_count": 57,
   "id": "057d7ffa-e48b-486f-bce0-2648b9803323",
   "metadata": {
    "tags": []
   },
   "outputs": [
    {
     "data": {
      "text/plain": [
       "pandas.core.frame.DataFrame"
      ]
     },
     "execution_count": 57,
     "metadata": {},
     "output_type": "execute_result"
    }
   ],
   "source": [
    "type(sat)"
   ]
  },
  {
   "cell_type": "code",
   "execution_count": 58,
   "id": "75be190c-3585-4076-92e7-b438e9fe5166",
   "metadata": {},
   "outputs": [
    {
     "data": {
      "text/html": [
       "<div>\n",
       "<style scoped>\n",
       "    .dataframe tbody tr th:only-of-type {\n",
       "        vertical-align: middle;\n",
       "    }\n",
       "\n",
       "    .dataframe tbody tr th {\n",
       "        vertical-align: top;\n",
       "    }\n",
       "\n",
       "    .dataframe thead th {\n",
       "        text-align: right;\n",
       "    }\n",
       "</style>\n",
       "<table border=\"1\" class=\"dataframe\">\n",
       "  <thead>\n",
       "    <tr style=\"text-align: right;\">\n",
       "      <th></th>\n",
       "      <th>State</th>\n",
       "      <th>Participation</th>\n",
       "      <th>Evidence-Based Reading and Writing</th>\n",
       "      <th>Math</th>\n",
       "      <th>Total</th>\n",
       "    </tr>\n",
       "  </thead>\n",
       "  <tbody>\n",
       "    <tr>\n",
       "      <th>0</th>\n",
       "      <td>Alabama</td>\n",
       "      <td>6%</td>\n",
       "      <td>595</td>\n",
       "      <td>571</td>\n",
       "      <td>1166</td>\n",
       "    </tr>\n",
       "    <tr>\n",
       "      <th>1</th>\n",
       "      <td>Alaska</td>\n",
       "      <td>43%</td>\n",
       "      <td>562</td>\n",
       "      <td>544</td>\n",
       "      <td>1106</td>\n",
       "    </tr>\n",
       "    <tr>\n",
       "      <th>2</th>\n",
       "      <td>Arizona</td>\n",
       "      <td>29%</td>\n",
       "      <td>577</td>\n",
       "      <td>572</td>\n",
       "      <td>1149</td>\n",
       "    </tr>\n",
       "    <tr>\n",
       "      <th>3</th>\n",
       "      <td>Arkansas</td>\n",
       "      <td>5%</td>\n",
       "      <td>592</td>\n",
       "      <td>576</td>\n",
       "      <td>1169</td>\n",
       "    </tr>\n",
       "    <tr>\n",
       "      <th>4</th>\n",
       "      <td>California</td>\n",
       "      <td>60%</td>\n",
       "      <td>540</td>\n",
       "      <td>536</td>\n",
       "      <td>1076</td>\n",
       "    </tr>\n",
       "  </tbody>\n",
       "</table>\n",
       "</div>"
      ],
      "text/plain": [
       "        State Participation  Evidence-Based Reading and Writing  Math  Total\n",
       "0     Alabama            6%                                 595   571   1166\n",
       "1      Alaska           43%                                 562   544   1106\n",
       "2     Arizona           29%                                 577   572   1149\n",
       "3    Arkansas            5%                                 592   576   1169\n",
       "4  California           60%                                 540   536   1076"
      ]
     },
     "execution_count": 58,
     "metadata": {},
     "output_type": "execute_result"
    }
   ],
   "source": [
    "sat.head()"
   ]
  },
  {
   "cell_type": "code",
   "execution_count": 59,
   "id": "8a75d5c2-5e8a-4733-afe6-f93df7269939",
   "metadata": {},
   "outputs": [
    {
     "data": {
      "text/plain": [
       "(51, 5)"
      ]
     },
     "execution_count": 59,
     "metadata": {},
     "output_type": "execute_result"
    }
   ],
   "source": [
    "sat.shape"
   ]
  },
  {
   "cell_type": "code",
   "execution_count": 60,
   "id": "92bcf060-daba-473f-be4b-41d55c00ae41",
   "metadata": {},
   "outputs": [
    {
     "data": {
      "text/plain": [
       "Index(['State', 'Participation', 'Evidence-Based Reading and Writing', 'Math',\n",
       "       'Total'],\n",
       "      dtype='object')"
      ]
     },
     "execution_count": 60,
     "metadata": {},
     "output_type": "execute_result"
    }
   ],
   "source": [
    "sat.columns"
   ]
  },
  {
   "cell_type": "code",
   "execution_count": 61,
   "id": "8a05c000-cc90-46d2-84a1-e8d67f5f3f10",
   "metadata": {},
   "outputs": [
    {
     "name": "stdout",
     "output_type": "stream",
     "text": [
      "<class 'pandas.core.frame.DataFrame'>\n",
      "RangeIndex: 51 entries, 0 to 50\n",
      "Data columns (total 5 columns):\n",
      " #   Column                              Non-Null Count  Dtype \n",
      "---  ------                              --------------  ----- \n",
      " 0   State                               51 non-null     object\n",
      " 1   Participation                       51 non-null     object\n",
      " 2   Evidence-Based Reading and Writing  51 non-null     int64 \n",
      " 3   Math                                51 non-null     int64 \n",
      " 4   Total                               51 non-null     int64 \n",
      "dtypes: int64(3), object(2)\n",
      "memory usage: 2.1+ KB\n"
     ]
    }
   ],
   "source": [
    "sat.info() #Dsiplay Dtypes to see if something must be modified"
   ]
  },
  {
   "cell_type": "code",
   "execution_count": 62,
   "id": "43736f37-ebeb-42a4-8375-8b6bff5b008b",
   "metadata": {},
   "outputs": [
    {
     "data": {
      "text/plain": [
       "State                                 0\n",
       "Participation                         0\n",
       "Evidence-Based Reading and Writing    0\n",
       "Math                                  0\n",
       "Total                                 0\n",
       "dtype: int64"
      ]
     },
     "execution_count": 62,
     "metadata": {},
     "output_type": "execute_result"
    }
   ],
   "source": [
    "sat.isnull().sum() # Checking for missing values"
   ]
  },
  {
   "cell_type": "code",
   "execution_count": 63,
   "id": "dd477c56-2ce1-4957-b5bb-729968c56175",
   "metadata": {},
   "outputs": [],
   "source": [
    "# function to check if there is any obvious issue with the \"Total\" column. SAT score ranges from 400 to 1600.\n",
    "def any_issues_data(data):\n",
    "    issues = []\n",
    "    for score in data:\n",
    "        if score < 400 or score > 1600:\n",
    "            issues.append(score)\n",
    "    return issues"
   ]
  },
  {
   "cell_type": "code",
   "execution_count": 64,
   "id": "d870c3e1-cd33-4796-94b2-4d135986e2bf",
   "metadata": {
    "tags": []
   },
   "outputs": [
    {
     "data": {
      "text/plain": [
       "[]"
      ]
     },
     "execution_count": 64,
     "metadata": {},
     "output_type": "execute_result"
    }
   ],
   "source": [
    "any_issues_data(sat['Total']) #Running the function with the \"Total\" column data."
   ]
  },
  {
   "cell_type": "markdown",
   "id": "495d1f97-4aa5-4b3d-b7be-0c9b458bc44b",
   "metadata": {
    "tags": []
   },
   "source": [
    "#### We can observe (via the empty list returned by the \"any_issues_data\" function) there are zero obviuos issues with the data we want to work with. "
   ]
  },
  {
   "cell_type": "code",
   "execution_count": 65,
   "id": "d8c9a047-d7c4-4a2f-89d7-27c6e56a07d9",
   "metadata": {},
   "outputs": [],
   "source": [
    "sat.columns = [col.replace(' ', '_').lower() for col in sat.columns] #Editing the column names"
   ]
  },
  {
   "cell_type": "code",
   "execution_count": 66,
   "id": "e06c217c-50f9-4ee5-b04a-5455d68daf5a",
   "metadata": {},
   "outputs": [
    {
     "data": {
      "text/plain": [
       "Index(['state', 'participation', 'evidence-based_reading_and_writing', 'math',\n",
       "       'total'],\n",
       "      dtype='object')"
      ]
     },
     "execution_count": 66,
     "metadata": {},
     "output_type": "execute_result"
    }
   ],
   "source": [
    "sat.columns"
   ]
  },
  {
   "cell_type": "code",
   "execution_count": 67,
   "id": "be3e5b4a-a2a9-4ea2-a8f8-eb870d21eff2",
   "metadata": {},
   "outputs": [],
   "source": [
    "sat['participation_%'] = sat['participation'].str.strip('%').astype('float') #Create new column where participation rates are floats not strings"
   ]
  },
  {
   "cell_type": "code",
   "execution_count": 68,
   "id": "7e5bb736-2762-47f3-953c-fc7e11f72abc",
   "metadata": {},
   "outputs": [
    {
     "data": {
      "text/html": [
       "<div>\n",
       "<style scoped>\n",
       "    .dataframe tbody tr th:only-of-type {\n",
       "        vertical-align: middle;\n",
       "    }\n",
       "\n",
       "    .dataframe tbody tr th {\n",
       "        vertical-align: top;\n",
       "    }\n",
       "\n",
       "    .dataframe thead th {\n",
       "        text-align: right;\n",
       "    }\n",
       "</style>\n",
       "<table border=\"1\" class=\"dataframe\">\n",
       "  <thead>\n",
       "    <tr style=\"text-align: right;\">\n",
       "      <th></th>\n",
       "      <th>state</th>\n",
       "      <th>participation</th>\n",
       "      <th>evidence-based_reading_and_writing</th>\n",
       "      <th>math</th>\n",
       "      <th>total</th>\n",
       "      <th>participation_%</th>\n",
       "    </tr>\n",
       "  </thead>\n",
       "  <tbody>\n",
       "    <tr>\n",
       "      <th>0</th>\n",
       "      <td>Alabama</td>\n",
       "      <td>6%</td>\n",
       "      <td>595</td>\n",
       "      <td>571</td>\n",
       "      <td>1166</td>\n",
       "      <td>6.0</td>\n",
       "    </tr>\n",
       "    <tr>\n",
       "      <th>1</th>\n",
       "      <td>Alaska</td>\n",
       "      <td>43%</td>\n",
       "      <td>562</td>\n",
       "      <td>544</td>\n",
       "      <td>1106</td>\n",
       "      <td>43.0</td>\n",
       "    </tr>\n",
       "    <tr>\n",
       "      <th>2</th>\n",
       "      <td>Arizona</td>\n",
       "      <td>29%</td>\n",
       "      <td>577</td>\n",
       "      <td>572</td>\n",
       "      <td>1149</td>\n",
       "      <td>29.0</td>\n",
       "    </tr>\n",
       "    <tr>\n",
       "      <th>3</th>\n",
       "      <td>Arkansas</td>\n",
       "      <td>5%</td>\n",
       "      <td>592</td>\n",
       "      <td>576</td>\n",
       "      <td>1169</td>\n",
       "      <td>5.0</td>\n",
       "    </tr>\n",
       "    <tr>\n",
       "      <th>4</th>\n",
       "      <td>California</td>\n",
       "      <td>60%</td>\n",
       "      <td>540</td>\n",
       "      <td>536</td>\n",
       "      <td>1076</td>\n",
       "      <td>60.0</td>\n",
       "    </tr>\n",
       "  </tbody>\n",
       "</table>\n",
       "</div>"
      ],
      "text/plain": [
       "        state participation  evidence-based_reading_and_writing  math  total  \\\n",
       "0     Alabama            6%                                 595   571   1166   \n",
       "1      Alaska           43%                                 562   544   1106   \n",
       "2     Arizona           29%                                 577   572   1149   \n",
       "3    Arkansas            5%                                 592   576   1169   \n",
       "4  California           60%                                 540   536   1076   \n",
       "\n",
       "   participation_%  \n",
       "0              6.0  \n",
       "1             43.0  \n",
       "2             29.0  \n",
       "3              5.0  \n",
       "4             60.0  "
      ]
     },
     "execution_count": 68,
     "metadata": {},
     "output_type": "execute_result"
    }
   ],
   "source": [
    "sat.head()"
   ]
  },
  {
   "cell_type": "code",
   "execution_count": 69,
   "id": "d5f40945-6b9c-4778-b6bd-f65f824b59f0",
   "metadata": {},
   "outputs": [],
   "source": [
    "#Deleting not needed columns\n",
    "sat.drop(columns=['participation', 'evidence-based_reading_and_writing', 'math'], inplace = True)"
   ]
  },
  {
   "cell_type": "code",
   "execution_count": 70,
   "id": "5ef61564-3138-4fce-994a-7d53ffa56e17",
   "metadata": {},
   "outputs": [
    {
     "data": {
      "text/html": [
       "<div>\n",
       "<style scoped>\n",
       "    .dataframe tbody tr th:only-of-type {\n",
       "        vertical-align: middle;\n",
       "    }\n",
       "\n",
       "    .dataframe tbody tr th {\n",
       "        vertical-align: top;\n",
       "    }\n",
       "\n",
       "    .dataframe thead th {\n",
       "        text-align: right;\n",
       "    }\n",
       "</style>\n",
       "<table border=\"1\" class=\"dataframe\">\n",
       "  <thead>\n",
       "    <tr style=\"text-align: right;\">\n",
       "      <th></th>\n",
       "      <th>state</th>\n",
       "      <th>total</th>\n",
       "      <th>participation_%</th>\n",
       "    </tr>\n",
       "  </thead>\n",
       "  <tbody>\n",
       "    <tr>\n",
       "      <th>0</th>\n",
       "      <td>Alabama</td>\n",
       "      <td>1166</td>\n",
       "      <td>6.0</td>\n",
       "    </tr>\n",
       "    <tr>\n",
       "      <th>1</th>\n",
       "      <td>Alaska</td>\n",
       "      <td>1106</td>\n",
       "      <td>43.0</td>\n",
       "    </tr>\n",
       "    <tr>\n",
       "      <th>2</th>\n",
       "      <td>Arizona</td>\n",
       "      <td>1149</td>\n",
       "      <td>29.0</td>\n",
       "    </tr>\n",
       "    <tr>\n",
       "      <th>3</th>\n",
       "      <td>Arkansas</td>\n",
       "      <td>1169</td>\n",
       "      <td>5.0</td>\n",
       "    </tr>\n",
       "    <tr>\n",
       "      <th>4</th>\n",
       "      <td>California</td>\n",
       "      <td>1076</td>\n",
       "      <td>60.0</td>\n",
       "    </tr>\n",
       "  </tbody>\n",
       "</table>\n",
       "</div>"
      ],
      "text/plain": [
       "        state  total  participation_%\n",
       "0     Alabama   1166              6.0\n",
       "1      Alaska   1106             43.0\n",
       "2     Arizona   1149             29.0\n",
       "3    Arkansas   1169              5.0\n",
       "4  California   1076             60.0"
      ]
     },
     "execution_count": 70,
     "metadata": {},
     "output_type": "execute_result"
    }
   ],
   "source": [
    "sat.head()"
   ]
  },
  {
   "cell_type": "markdown",
   "id": "37b97e69-d248-40e3-b7ff-f26a09e13531",
   "metadata": {},
   "source": [
    "#### Next, state names are changed so this dataset has the same column format as the climate dataset."
   ]
  },
  {
   "cell_type": "code",
   "execution_count": 71,
   "id": "6ce1b580-cdb9-4491-be7d-63331b480aa2",
   "metadata": {},
   "outputs": [],
   "source": [
    "sat['state'] = [state.replace(' ', '_').lower() for state in sat['state']] #Modifying to match the format in the climate dataset state column"
   ]
  },
  {
   "cell_type": "code",
   "execution_count": 72,
   "id": "27ce48cb-07ce-4973-9be4-895ab64cff20",
   "metadata": {
    "tags": []
   },
   "outputs": [
    {
     "data": {
      "text/html": [
       "<div>\n",
       "<style scoped>\n",
       "    .dataframe tbody tr th:only-of-type {\n",
       "        vertical-align: middle;\n",
       "    }\n",
       "\n",
       "    .dataframe tbody tr th {\n",
       "        vertical-align: top;\n",
       "    }\n",
       "\n",
       "    .dataframe thead th {\n",
       "        text-align: right;\n",
       "    }\n",
       "</style>\n",
       "<table border=\"1\" class=\"dataframe\">\n",
       "  <thead>\n",
       "    <tr style=\"text-align: right;\">\n",
       "      <th></th>\n",
       "      <th>state</th>\n",
       "      <th>total</th>\n",
       "      <th>participation_%</th>\n",
       "    </tr>\n",
       "  </thead>\n",
       "  <tbody>\n",
       "    <tr>\n",
       "      <th>48</th>\n",
       "      <td>west_virginia</td>\n",
       "      <td>999</td>\n",
       "      <td>28.0</td>\n",
       "    </tr>\n",
       "    <tr>\n",
       "      <th>49</th>\n",
       "      <td>wisconsin</td>\n",
       "      <td>1294</td>\n",
       "      <td>3.0</td>\n",
       "    </tr>\n",
       "    <tr>\n",
       "      <th>50</th>\n",
       "      <td>wyoming</td>\n",
       "      <td>1257</td>\n",
       "      <td>3.0</td>\n",
       "    </tr>\n",
       "  </tbody>\n",
       "</table>\n",
       "</div>"
      ],
      "text/plain": [
       "            state  total  participation_%\n",
       "48  west_virginia    999             28.0\n",
       "49      wisconsin   1294              3.0\n",
       "50        wyoming   1257              3.0"
      ]
     },
     "execution_count": 72,
     "metadata": {},
     "output_type": "execute_result"
    }
   ],
   "source": [
    "sat.tail(3) #Just enough to check for every possible scenario (lowercased and spaces)"
   ]
  },
  {
   "cell_type": "code",
   "execution_count": 73,
   "id": "914ffe2a-6034-4020-afed-d0f22a7bc45f",
   "metadata": {
    "tags": []
   },
   "outputs": [
    {
     "data": {
      "text/plain": [
       "(51, 3)"
      ]
     },
     "execution_count": 73,
     "metadata": {},
     "output_type": "execute_result"
    }
   ],
   "source": [
    "sat.shape"
   ]
  },
  {
   "cell_type": "code",
   "execution_count": 74,
   "id": "4b33f394-aecf-44a8-bf1b-350a945acaed",
   "metadata": {},
   "outputs": [],
   "source": [
    "sat.sort_values('state', inplace = True)"
   ]
  },
  {
   "cell_type": "code",
   "execution_count": 76,
   "id": "88b27508-160d-435a-8793-47612f96791b",
   "metadata": {},
   "outputs": [],
   "source": [
    "sat.to_csv('../data/sat.csv') #Saving as csv file"
   ]
  },
  {
   "cell_type": "code",
   "execution_count": null,
   "id": "046eb472-539f-40c9-b4ab-508a016ae748",
   "metadata": {},
   "outputs": [],
   "source": []
  },
  {
   "cell_type": "code",
   "execution_count": null,
   "id": "08628ff5-ea78-47bf-9e15-6fd0bc41844d",
   "metadata": {},
   "outputs": [],
   "source": []
  }
 ],
 "metadata": {
  "kernelspec": {
   "display_name": "Python 3",
   "language": "python",
   "name": "python3"
  },
  "language_info": {
   "codemirror_mode": {
    "name": "ipython",
    "version": 3
   },
   "file_extension": ".py",
   "mimetype": "text/x-python",
   "name": "python",
   "nbconvert_exporter": "python",
   "pygments_lexer": "ipython3",
   "version": "3.8.8"
  }
 },
 "nbformat": 4,
 "nbformat_minor": 5
}
