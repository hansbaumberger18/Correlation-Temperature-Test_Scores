{
 "cells": [
  {
   "cell_type": "markdown",
   "id": "fced5a3f-ab29-4b2f-ad96-8243c8352a18",
   "metadata": {
    "tags": []
   },
   "source": [
    "# \"state\" column"
   ]
  },
  {
   "cell_type": "markdown",
   "id": "c9fc555b-77d6-4116-a544-1c2cefb326bf",
   "metadata": {},
   "source": [
    "#### In this particular notebook the \"state\" column of each of the three datasets will be matched to be the same as the others"
   ]
  },
  {
   "cell_type": "code",
   "execution_count": 38,
   "id": "b788157e-98e0-4fcd-9ee9-3e38325b7226",
   "metadata": {},
   "outputs": [],
   "source": [
    "import pandas as pd"
   ]
  },
  {
   "cell_type": "code",
   "execution_count": 39,
   "id": "312898f5-208a-4992-b7a8-540cd5bf7f87",
   "metadata": {},
   "outputs": [],
   "source": [
    "sat = pd.read_csv('../data/sat.csv')"
   ]
  },
  {
   "cell_type": "code",
   "execution_count": 40,
   "id": "5594edb4-9907-46c0-9efb-7875a99c146c",
   "metadata": {},
   "outputs": [],
   "source": [
    "act = pd.read_csv('../data/act.csv')"
   ]
  },
  {
   "cell_type": "code",
   "execution_count": 41,
   "id": "92916b2b-4521-4d70-b2f2-c2eeb2d9de4d",
   "metadata": {},
   "outputs": [],
   "source": [
    "climate = pd.read_csv('../data/climate.csv')"
   ]
  },
  {
   "cell_type": "code",
   "execution_count": 42,
   "id": "b68e4895-4363-4430-8a89-6b00e08576bf",
   "metadata": {},
   "outputs": [
    {
     "data": {
      "text/plain": [
       "Index(['Unnamed: 0', 'state', 'total', 'participation_%'], dtype='object')"
      ]
     },
     "execution_count": 42,
     "metadata": {},
     "output_type": "execute_result"
    }
   ],
   "source": [
    "sat.columns"
   ]
  },
  {
   "cell_type": "code",
   "execution_count": 43,
   "id": "f8f73270-ead9-4f67-a5af-5a6e56f5ed69",
   "metadata": {},
   "outputs": [
    {
     "data": {
      "text/plain": [
       "Index(['Unnamed: 0', 'state', 'composite', 'participation_%'], dtype='object')"
      ]
     },
     "execution_count": 43,
     "metadata": {},
     "output_type": "execute_result"
    }
   ],
   "source": [
    "act.columns"
   ]
  },
  {
   "cell_type": "code",
   "execution_count": 44,
   "id": "f2c5c90b-d19e-4479-a7b1-38b8633b9c62",
   "metadata": {},
   "outputs": [
    {
     "data": {
      "text/plain": [
       "Index(['Unnamed: 0', 'state', 'avg_temp'], dtype='object')"
      ]
     },
     "execution_count": 44,
     "metadata": {},
     "output_type": "execute_result"
    }
   ],
   "source": [
    "climate.columns"
   ]
  },
  {
   "cell_type": "code",
   "execution_count": 45,
   "id": "e056b0f5-939f-4ee1-9ada-2c65095dbc2a",
   "metadata": {},
   "outputs": [
    {
     "data": {
      "text/plain": [
       "(51, 4)"
      ]
     },
     "execution_count": 45,
     "metadata": {},
     "output_type": "execute_result"
    }
   ],
   "source": [
    "sat.shape"
   ]
  },
  {
   "cell_type": "code",
   "execution_count": 46,
   "id": "630dba1a-dbcb-48e9-bc35-c830a4b3450c",
   "metadata": {},
   "outputs": [
    {
     "data": {
      "text/plain": [
       "(51, 4)"
      ]
     },
     "execution_count": 46,
     "metadata": {},
     "output_type": "execute_result"
    }
   ],
   "source": [
    "act.shape"
   ]
  },
  {
   "cell_type": "code",
   "execution_count": 47,
   "id": "9c71d0d7-104c-4e3d-ae44-db9e93e929ae",
   "metadata": {},
   "outputs": [
    {
     "data": {
      "text/plain": [
       "(50, 3)"
      ]
     },
     "execution_count": 47,
     "metadata": {},
     "output_type": "execute_result"
    }
   ],
   "source": [
    "climate.shape"
   ]
  },
  {
   "cell_type": "markdown",
   "id": "aeef038d-d879-4e38-b2ca-dc3fcab21a8a",
   "metadata": {},
   "source": [
    "#### Something is wrong with the row size of the climate dataset. Next, we check which state is missing."
   ]
  },
  {
   "cell_type": "code",
   "execution_count": 48,
   "id": "f1cb3a38-5147-4f52-8aa2-94603264550c",
   "metadata": {},
   "outputs": [],
   "source": [
    "# Function that will return the missing state when comparing two of the three datasets \n",
    "\n",
    "def dif_climate_sat(states, st_climate):  \n",
    "    dif = []\n",
    "    for state in states:\n",
    "        if state not in list(st_climate):\n",
    "            dif.append(state)\n",
    "    return dif "
   ]
  },
  {
   "cell_type": "code",
   "execution_count": 49,
   "id": "371cbd29-f308-437c-864c-6366b4c63b2b",
   "metadata": {},
   "outputs": [
    {
     "data": {
      "text/plain": [
       "['district_of_columbia']"
      ]
     },
     "execution_count": 49,
     "metadata": {},
     "output_type": "execute_result"
    }
   ],
   "source": [
    "dif_climate_sat(sat['state'], climate['state'])"
   ]
  },
  {
   "cell_type": "code",
   "execution_count": 50,
   "id": "54f6409c-9d20-4283-964c-98b116a00fd7",
   "metadata": {},
   "outputs": [
    {
     "data": {
      "text/plain": [
       "['district_of_columbia']"
      ]
     },
     "execution_count": 50,
     "metadata": {},
     "output_type": "execute_result"
    }
   ],
   "source": [
    "dif_climate_sat(act['state'], climate['state'])"
   ]
  },
  {
   "cell_type": "markdown",
   "id": "a5946dcf-09b5-43bd-9d58-571dd0ff2209",
   "metadata": {},
   "source": [
    "#### The state missing in the climate dataset is District of Columbia. Now, that row is being deleted from the SAT and ACT datasets"
   ]
  },
  {
   "cell_type": "code",
   "execution_count": 51,
   "id": "06dc8c30-266f-4765-9889-c967d04e2fa3",
   "metadata": {},
   "outputs": [],
   "source": [
    "#This code was taken from: https://www.ritchieng.com/pandas-pandas-index/\n",
    "\n",
    "i = sat[sat.state == 'district_of_columbia'].index #Looking for the row index"
   ]
  },
  {
   "cell_type": "code",
   "execution_count": 52,
   "id": "071bf571-2731-4e55-b15b-483864172708",
   "metadata": {},
   "outputs": [
    {
     "data": {
      "text/plain": [
       "Int64Index([8], dtype='int64')"
      ]
     },
     "execution_count": 52,
     "metadata": {},
     "output_type": "execute_result"
    }
   ],
   "source": [
    "i"
   ]
  },
  {
   "cell_type": "code",
   "execution_count": 53,
   "id": "fe33100a-7dce-4181-9228-2bd78c0d2530",
   "metadata": {},
   "outputs": [],
   "source": [
    "sat.drop(i, inplace = True)"
   ]
  },
  {
   "cell_type": "code",
   "execution_count": 54,
   "id": "b6d76580-698d-412c-a170-f556899a7f11",
   "metadata": {},
   "outputs": [
    {
     "data": {
      "text/plain": [
       "(50, 4)"
      ]
     },
     "execution_count": 54,
     "metadata": {},
     "output_type": "execute_result"
    }
   ],
   "source": [
    "sat.shape #Checking if it got deleted by checking the size"
   ]
  },
  {
   "cell_type": "code",
   "execution_count": 55,
   "id": "076c47f8-e9d0-4689-8576-9107b3e9b04e",
   "metadata": {},
   "outputs": [],
   "source": [
    "i = act[act.state == 'district_of_columbia'].index "
   ]
  },
  {
   "cell_type": "code",
   "execution_count": 56,
   "id": "070977f9-b04e-457b-9127-e19a939eddad",
   "metadata": {},
   "outputs": [
    {
     "data": {
      "text/plain": [
       "Int64Index([8], dtype='int64')"
      ]
     },
     "execution_count": 56,
     "metadata": {},
     "output_type": "execute_result"
    }
   ],
   "source": [
    "i"
   ]
  },
  {
   "cell_type": "code",
   "execution_count": 57,
   "id": "d63881fe-e843-46d3-a486-0caedc621c0c",
   "metadata": {},
   "outputs": [],
   "source": [
    "act.drop(i, inplace = True)"
   ]
  },
  {
   "cell_type": "code",
   "execution_count": 58,
   "id": "ad205b6f-4d16-4abf-a718-aca394f3629b",
   "metadata": {},
   "outputs": [
    {
     "data": {
      "text/plain": [
       "(50, 4)"
      ]
     },
     "execution_count": 58,
     "metadata": {},
     "output_type": "execute_result"
    }
   ],
   "source": [
    "act.shape #Checking if it got deleted by checking the size"
   ]
  },
  {
   "cell_type": "code",
   "execution_count": 61,
   "id": "2f0dd2e6-3d5e-4fb4-86ec-dfa7747377ab",
   "metadata": {},
   "outputs": [],
   "source": [
    "sat.to_csv('../data/sat_GOOD.csv') #Saving file as csv"
   ]
  },
  {
   "cell_type": "code",
   "execution_count": 60,
   "id": "5f295d16-4803-477c-bb34-cc2d62b0d7ca",
   "metadata": {},
   "outputs": [],
   "source": [
    "act.to_csv('../data/act_GOOD.csv') #Saving file as csv"
   ]
  },
  {
   "cell_type": "code",
   "execution_count": null,
   "id": "bbe0584b-6dde-4633-81de-b4ea741347c2",
   "metadata": {},
   "outputs": [],
   "source": []
  }
 ],
 "metadata": {
  "kernelspec": {
   "display_name": "Python 3",
   "language": "python",
   "name": "python3"
  },
  "language_info": {
   "codemirror_mode": {
    "name": "ipython",
    "version": 3
   },
   "file_extension": ".py",
   "mimetype": "text/x-python",
   "name": "python",
   "nbconvert_exporter": "python",
   "pygments_lexer": "ipython3",
   "version": "3.8.8"
  }
 },
 "nbformat": 4,
 "nbformat_minor": 5
}
